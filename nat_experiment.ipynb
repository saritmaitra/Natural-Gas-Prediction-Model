{
  "nbformat": 4,
  "nbformat_minor": 0,
  "metadata": {
    "colab": {
      "name": "nat_experiment.ipynb",
      "provenance": [],
      "collapsed_sections": [],
      "authorship_tag": "ABX9TyNHpR7WSCOKHjH4rjYqk5CX",
      "include_colab_link": true
    },
    "kernelspec": {
      "name": "python3",
      "display_name": "Python 3"
    }
  },
  "cells": [
    {
      "cell_type": "markdown",
      "metadata": {
        "id": "view-in-github",
        "colab_type": "text"
      },
      "source": [
        "<a href=\"https://colab.research.google.com/github/saritmaitra/Natural-Gas_Paul/blob/master/nat_experiment.ipynb\" target=\"_parent\"><img src=\"https://colab.research.google.com/assets/colab-badge.svg\" alt=\"Open In Colab\"/></a>"
      ]
    },
    {
      "cell_type": "code",
      "metadata": {
        "id": "kjTGdF8CvJGb",
        "colab_type": "code",
        "outputId": "a1906883-be5d-458f-9335-e124a3538e16",
        "colab": {
          "base_uri": "https://localhost:8080/",
          "height": 756
        }
      },
      "source": [
        "!pip install pyforest\n",
        "from pyforest import *\n",
        "import datetime, pickle, copy\n",
        "pd.set_option('display.max_rows', 500)\n",
        "pd.set_option('display.max_columns', 500)\n",
        "pd.set_option('display.width', 150)\n",
        "import matplotlib.pyplot as plt\n",
        "%matplotlib inline  \n",
        "from pandas.plotting import register_matplotlib_converters\n",
        "register_matplotlib_converters()\n",
        "!pip install quandl\n",
        "import quandl\n",
        "plt.style.use('ggplot')\n",
        "from statistics import variance \n",
        "from random import randint\n",
        "import scipy as sp\n",
        "from scipy import stats\n",
        "from sklearn.preprocessing import MinMaxScaler\n",
        "from sklearn.metrics import roc_curve, auc, classification_report, accuracy_score, roc_auc_score, mean_squared_error\n",
        "from xgboost import XGBClassifier, plot_importance\n",
        "!pip install fredapi\n",
        "from fredapi import Fred\n",
        "!pip install EIA_python\n",
        "import eia\n",
        "from sklearn.model_selection import cross_val_score, KFold, cross_validate, train_test_split, TimeSeriesSplit\n",
        "from xgboost import XGBRegressor\n",
        "import xgboost as xgb\n",
        "!pip install ffn\n",
        "import ffn"
      ],
      "execution_count": 0,
      "outputs": [
        {
          "output_type": "stream",
          "text": [
            "Requirement already satisfied: pyforest in /usr/local/lib/python3.6/dist-packages (1.0.3)\n"
          ],
          "name": "stdout"
        },
        {
          "output_type": "display_data",
          "data": {
            "application/javascript": [
              "\n",
              "        if (window._pyforest_update_imports_cell) { window._pyforest_update_imports_cell('import pandas as pd\\nimport bokeh\\nimport sklearn\\nimport plotly as py\\nimport pydot\\nimport matplotlib as mpl\\nimport os\\nimport plotly.express as px\\nimport numpy as np\\nimport altair as alt\\nimport plotly.graph_objs as go'); }\n",
              "    "
            ],
            "text/plain": [
              "<IPython.core.display.Javascript object>"
            ]
          },
          "metadata": {
            "tags": []
          }
        },
        {
          "output_type": "display_data",
          "data": {
            "application/javascript": [
              "\n",
              "        if (window._pyforest_update_imports_cell) { window._pyforest_update_imports_cell('import pandas as pd\\nimport bokeh\\nimport sklearn\\nimport plotly as py\\nimport pydot\\nimport matplotlib as mpl\\nimport os\\nimport plotly.express as px\\nimport numpy as np\\nimport altair as alt\\nimport plotly.graph_objs as go'); }\n",
              "    "
            ],
            "text/plain": [
              "<IPython.core.display.Javascript object>"
            ]
          },
          "metadata": {
            "tags": []
          }
        },
        {
          "output_type": "display_data",
          "data": {
            "application/javascript": [
              "\n",
              "        if (window._pyforest_update_imports_cell) { window._pyforest_update_imports_cell('import pandas as pd\\nimport bokeh\\nimport sklearn\\nimport plotly as py\\nimport pydot\\nimport matplotlib as mpl\\nimport os\\nimport plotly.express as px\\nimport numpy as np\\nimport altair as alt\\nimport plotly.graph_objs as go'); }\n",
              "    "
            ],
            "text/plain": [
              "<IPython.core.display.Javascript object>"
            ]
          },
          "metadata": {
            "tags": []
          }
        },
        {
          "output_type": "stream",
          "text": [
            "Requirement already satisfied: quandl in /usr/local/lib/python3.6/dist-packages (3.5.0)\n",
            "Requirement already satisfied: six in /usr/local/lib/python3.6/dist-packages (from quandl) (1.12.0)\n",
            "Requirement already satisfied: more-itertools in /usr/local/lib/python3.6/dist-packages (from quandl) (8.3.0)\n",
            "Requirement already satisfied: pandas>=0.14 in /usr/local/lib/python3.6/dist-packages (from quandl) (1.0.3)\n",
            "Requirement already satisfied: requests>=2.7.0 in /usr/local/lib/python3.6/dist-packages (from quandl) (2.23.0)\n",
            "Requirement already satisfied: numpy>=1.8 in /usr/local/lib/python3.6/dist-packages (from quandl) (1.18.4)\n",
            "Requirement already satisfied: inflection>=0.3.1 in /usr/local/lib/python3.6/dist-packages (from quandl) (0.4.0)\n",
            "Requirement already satisfied: python-dateutil in /usr/local/lib/python3.6/dist-packages (from quandl) (2.8.1)\n",
            "Requirement already satisfied: pytz>=2017.2 in /usr/local/lib/python3.6/dist-packages (from pandas>=0.14->quandl) (2018.9)\n",
            "Requirement already satisfied: idna<3,>=2.5 in /usr/local/lib/python3.6/dist-packages (from requests>=2.7.0->quandl) (2.9)\n",
            "Requirement already satisfied: urllib3!=1.25.0,!=1.25.1,<1.26,>=1.21.1 in /usr/local/lib/python3.6/dist-packages (from requests>=2.7.0->quandl) (1.24.3)\n",
            "Requirement already satisfied: chardet<4,>=3.0.2 in /usr/local/lib/python3.6/dist-packages (from requests>=2.7.0->quandl) (3.0.4)\n",
            "Requirement already satisfied: certifi>=2017.4.17 in /usr/local/lib/python3.6/dist-packages (from requests>=2.7.0->quandl) (2020.4.5.1)\n",
            "Requirement already satisfied: fredapi in /usr/local/lib/python3.6/dist-packages (0.4.2)\n",
            "Requirement already satisfied: pandas in /usr/local/lib/python3.6/dist-packages (from fredapi) (1.0.3)\n",
            "Requirement already satisfied: numpy>=1.13.3 in /usr/local/lib/python3.6/dist-packages (from pandas->fredapi) (1.18.4)\n",
            "Requirement already satisfied: pytz>=2017.2 in /usr/local/lib/python3.6/dist-packages (from pandas->fredapi) (2018.9)\n",
            "Requirement already satisfied: python-dateutil>=2.6.1 in /usr/local/lib/python3.6/dist-packages (from pandas->fredapi) (2.8.1)\n",
            "Requirement already satisfied: six>=1.5 in /usr/local/lib/python3.6/dist-packages (from python-dateutil>=2.6.1->pandas->fredapi) (1.12.0)\n",
            "Requirement already satisfied: EIA_python in /usr/local/lib/python3.6/dist-packages (1.22)\n",
            "Requirement already satisfied: ffn in /usr/local/lib/python3.6/dist-packages (0.3.4)\n",
            "Requirement already satisfied: pandas>=0.19 in /usr/local/lib/python3.6/dist-packages (from ffn) (1.0.3)\n",
            "Requirement already satisfied: pandas-datareader>=0.2 in /usr/local/lib/python3.6/dist-packages (from ffn) (0.8.1)\n",
            "Requirement already satisfied: future>=0.15 in /usr/local/lib/python3.6/dist-packages (from ffn) (0.16.0)\n",
            "Requirement already satisfied: scikit-learn>=0.15 in /usr/local/lib/python3.6/dist-packages (from ffn) (0.22.2.post1)\n",
            "Requirement already satisfied: scipy>=0.15 in /usr/local/lib/python3.6/dist-packages (from ffn) (1.4.1)\n",
            "Requirement already satisfied: numpy>=1.5 in /usr/local/lib/python3.6/dist-packages (from ffn) (1.18.4)\n",
            "Requirement already satisfied: decorator>=4 in /usr/local/lib/python3.6/dist-packages (from ffn) (4.4.2)\n",
            "Requirement already satisfied: matplotlib>=1 in /usr/local/lib/python3.6/dist-packages (from ffn) (3.2.1)\n",
            "Requirement already satisfied: tabulate>=0.7.5 in /usr/local/lib/python3.6/dist-packages (from ffn) (0.8.7)\n",
            "Requirement already satisfied: python-dateutil>=2.6.1 in /usr/local/lib/python3.6/dist-packages (from pandas>=0.19->ffn) (2.8.1)\n",
            "Requirement already satisfied: pytz>=2017.2 in /usr/local/lib/python3.6/dist-packages (from pandas>=0.19->ffn) (2018.9)\n",
            "Requirement already satisfied: requests>=2.3.0 in /usr/local/lib/python3.6/dist-packages (from pandas-datareader>=0.2->ffn) (2.23.0)\n",
            "Requirement already satisfied: lxml in /usr/local/lib/python3.6/dist-packages (from pandas-datareader>=0.2->ffn) (4.2.6)\n",
            "Requirement already satisfied: joblib>=0.11 in /usr/local/lib/python3.6/dist-packages (from scikit-learn>=0.15->ffn) (0.15.1)\n",
            "Requirement already satisfied: pyparsing!=2.0.4,!=2.1.2,!=2.1.6,>=2.0.1 in /usr/local/lib/python3.6/dist-packages (from matplotlib>=1->ffn) (2.4.7)\n",
            "Requirement already satisfied: kiwisolver>=1.0.1 in /usr/local/lib/python3.6/dist-packages (from matplotlib>=1->ffn) (1.2.0)\n",
            "Requirement already satisfied: cycler>=0.10 in /usr/local/lib/python3.6/dist-packages (from matplotlib>=1->ffn) (0.10.0)\n",
            "Requirement already satisfied: six>=1.5 in /usr/local/lib/python3.6/dist-packages (from python-dateutil>=2.6.1->pandas>=0.19->ffn) (1.12.0)\n",
            "Requirement already satisfied: urllib3!=1.25.0,!=1.25.1,<1.26,>=1.21.1 in /usr/local/lib/python3.6/dist-packages (from requests>=2.3.0->pandas-datareader>=0.2->ffn) (1.24.3)\n",
            "Requirement already satisfied: certifi>=2017.4.17 in /usr/local/lib/python3.6/dist-packages (from requests>=2.3.0->pandas-datareader>=0.2->ffn) (2020.4.5.1)\n",
            "Requirement already satisfied: chardet<4,>=3.0.2 in /usr/local/lib/python3.6/dist-packages (from requests>=2.3.0->pandas-datareader>=0.2->ffn) (3.0.4)\n",
            "Requirement already satisfied: idna<3,>=2.5 in /usr/local/lib/python3.6/dist-packages (from requests>=2.3.0->pandas-datareader>=0.2->ffn) (2.9)\n"
          ],
          "name": "stdout"
        }
      ]
    },
    {
      "cell_type": "code",
      "metadata": {
        "id": "SuPzS-Pbi6ay",
        "colab_type": "code",
        "colab": {}
      },
      "source": [
        "import pandas_datareader as web"
      ],
      "execution_count": 0,
      "outputs": []
    },
    {
      "cell_type": "code",
      "metadata": {
        "id": "xljuuBgXOxmp",
        "colab_type": "code",
        "colab": {}
      },
      "source": [
        "# Moving averages crossover Plot \n",
        "df1 = data['Adj Close'].copy()\n",
        "sma5 = df1.rolling(window=5).mean()\n",
        "sma20 = df1.rolling(window=20).mean()\n",
        "\n",
        "fig = plt.figure(figsize=(20,6))\n",
        "plt.plot(df1, color='gray', label='Last')\n",
        "# Plot the buy and sell signals on the same plot\n",
        "#  When the shorter-term MA crosses above the longer-term MA (Golden cross), it's a buy signal, it indicates that the trend is shifting up. \n",
        "#  When the shorter-term MA crosses below the longer-term MA, it's a sell signal (dead/death cross), it indicates that the trend is shifting down. \n",
        "plt.plot(sma5.dropna(), color='r', label = 'sma20')\n",
        "plt.plot(sma20.dropna(), color='g', label = 'sma100')\n",
        "plt.ylabel('Price')\n",
        "plt.xlabel('Date')\n",
        "plt.suptitle('SMA crossover')\n",
        "plt.title('Buy -> Shorter MA crosses below longer MA (Deadcross); Sell -> Shorter MA crosses above longer MA (Golden cross)')\n",
        "plt.legend(loc=0)\n",
        "\n",
        "# Display everything\n",
        "plt.show()\n",
        "print('\\n')"
      ],
      "execution_count": 0,
      "outputs": []
    },
    {
      "cell_type": "code",
      "metadata": {
        "id": "NQfuv6y6MzqZ",
        "colab_type": "code",
        "outputId": "d7a853fa-b734-4a67-b614-9227bf42fe26",
        "colab": {
          "base_uri": "https://localhost:8080/",
          "height": 34
        }
      },
      "source": [
        "# US Coal Prices by Region\n",
        "print('\\033[4mUS Coal Prices by Region\\033[0m')\n",
        "coal = quandl.get(\"EIA/COAL\", authtoken=\"LSQpgUzwJRoF667ZpzyL\") \n",
        "coal = coal.loc['2000-01-01':,]"
      ],
      "execution_count": 0,
      "outputs": [
        {
          "output_type": "stream",
          "text": [
            "\u001b[4mUS Coal Prices by Region\u001b[0m\n"
          ],
          "name": "stdout"
        }
      ]
    },
    {
      "cell_type": "code",
      "metadata": {
        "id": "AoT6E0cW9DY6",
        "colab_type": "code",
        "outputId": "6cfb1e5a-3a98-4a8c-889e-7535078472ad",
        "colab": {
          "base_uri": "https://localhost:8080/",
          "height": 50
        }
      },
      "source": [
        "# U.S. Natural Gas Rotary Rigs in Operation, Monthly\n",
        "print('\\033[4mNatural Gas Rotary Rigs in Operation, Monthly (Number of Elements)\\033[0m')\n",
        "def retrieve_time_series(api, series_ID):\n",
        "    \"\"\"\n",
        "    Return the time series dataframe, based on API and unique Series ID\n",
        "    \"\"\"\n",
        "    #Retrieve Data By Series ID \n",
        "    series_search = api.data_by_series(series=series_ID)\n",
        "    ##Create a pandas dataframe from the retrieved time series\n",
        "    drilling = pd.DataFrame(series_search)\n",
        "    return drilling\n",
        "\n",
        "def main():\n",
        "    \"\"\"\n",
        "    Run main script\n",
        "    \"\"\"\n",
        "    try:\n",
        "      #Create EIA API using your specific API key\n",
        "      api_key = \"ad819ee5a69e69390eadf300fa168fa8\"\n",
        "      api = eia.API(api_key)\n",
        "      #Declare desired series ID\n",
        "      series_ID='PET.E_ERTRRG_XR0_NUS_C.M '\n",
        "      drilling = retrieve_time_series(api, series_ID)\n",
        "      #Print the returned dataframe df\n",
        "      print(type(drilling))\n",
        "      return drilling;\n",
        "    except Exception as e:\n",
        "      print(\"error\", e)\n",
        "      return pd.DataFrame(columns=None)\n",
        "  \n",
        "drilling = main()\n",
        "drilling = drilling.rename({'U.S. Natural Gas Rotary Rigs in Operation, Monthly (Number of Elements)': 'drilling'}, axis = 'columns')\n",
        "drilling = drilling.reset_index()\n",
        "drilling['Date']= pd.to_datetime(drilling['index']) \n",
        "drilling.set_index('Date', inplace=True) # setting index column\n",
        "drilling = drilling.loc['2000-01-01':,['drilling']] # setting date range\n",
        "drilling = drilling.astype(float)\n",
        "drilling = drilling.resample('D').ffill().bfill()\n",
        "drilling = drilling/21\n",
        "#print(drilling)\n",
        "#print('\\n')\n"
      ],
      "execution_count": 0,
      "outputs": [
        {
          "output_type": "stream",
          "text": [
            "\u001b[4mNatural Gas Rotary Rigs in Operation, Monthly (Number of Elements)\u001b[0m\n"
          ],
          "name": "stdout"
        },
        {
          "output_type": "display_data",
          "data": {
            "application/javascript": [
              "\n",
              "        if (window._pyforest_update_imports_cell) { window._pyforest_update_imports_cell('import pandas as pd\\nimport bokeh\\nimport sklearn\\nimport plotly as py\\nimport pydot\\nimport matplotlib as mpl\\nimport os\\nimport plotly.express as px\\nimport numpy as np\\nimport altair as alt\\nimport plotly.graph_objs as go'); }\n",
              "    "
            ],
            "text/plain": [
              "<IPython.core.display.Javascript object>"
            ]
          },
          "metadata": {
            "tags": []
          }
        },
        {
          "output_type": "stream",
          "text": [
            "<class 'pandas.core.frame.DataFrame'>\n"
          ],
          "name": "stdout"
        },
        {
          "output_type": "display_data",
          "data": {
            "application/javascript": [
              "\n",
              "        if (window._pyforest_update_imports_cell) { window._pyforest_update_imports_cell('import pandas as pd\\nimport bokeh\\nimport sklearn\\nimport plotly as py\\nimport pydot\\nimport matplotlib as mpl\\nimport os\\nimport plotly.express as px\\nimport numpy as np\\nimport altair as alt\\nimport plotly.graph_objs as go'); }\n",
              "    "
            ],
            "text/plain": [
              "<IPython.core.display.Javascript object>"
            ]
          },
          "metadata": {
            "tags": []
          }
        }
      ]
    },
    {
      "cell_type": "code",
      "metadata": {
        "id": "4ryp628OZC35",
        "colab_type": "code",
        "outputId": "e6de0ead-2ffd-4cc5-ed12-e731010d32d0",
        "colab": {
          "base_uri": "https://localhost:8080/",
          "height": 118
        }
      },
      "source": [
        "# U.S. Natural Gas Exports (Price), Monthly\n",
        "print('\\033[4mPrice of U.S. Natural Gas Exports (Price), Monthly\\033[0m')\n",
        "def retrieve_time_series(api, series_ID):\n",
        "    \"\"\"\n",
        "    Return the time series dataframe, based on API and unique Series ID\n",
        "    \"\"\"\n",
        "    #Retrieve Data By Series ID \n",
        "    series_search = api.data_by_series(series=series_ID)\n",
        "    ##Create a pandas dataframe from the retrieved time series\n",
        "    pr_export = pd.DataFrame(series_search)\n",
        "    return pr_export\n",
        "\n",
        "def main():\n",
        "    \"\"\"\n",
        "    Run main script\n",
        "    \"\"\"\n",
        "    try:\n",
        "      #Create EIA API using your specific API key\n",
        "      api_key = \"ad819ee5a69e69390eadf300fa168fa8\"\n",
        "      api = eia.API(api_key)\n",
        "      #Declare desired series ID\n",
        "      series_ID='NG.N9130US3.M'\n",
        "      pr_export = retrieve_time_series(api, series_ID)\n",
        "      #Print the returned dataframe df\n",
        "      print(type(pr_export))\n",
        "      return pr_export;\n",
        "    except Exception as e:\n",
        "      print(\"error\", e)\n",
        "      return pd.DataFrame(columns=None)\n",
        "\n",
        "pr_export = main()\n",
        "pr_export = pr_export.rename({'Price of U.S. Natural Gas Exports, Monthly (Dollars per Thousand Cubic Feet)': 'pr_export'}, axis = 'columns')\n",
        "pr_export = pr_export.reset_index()\n",
        "pr_export['Date']= pd.to_datetime(pr_export['index']) \n",
        "pr_export.set_index('Date', inplace=True) # setting index column\n",
        "pr_export = pr_export.loc['2000-01-01':,['pr_export']] # setting date range\n",
        "pr_export = pr_export.astype(float)\n",
        "pr_export = pr_export.resample('D').bfill().ffill()\n",
        "pr_export = pr_export/21\n",
        "\n",
        "\n",
        "# Price of U.S. Natural Gas Imports (Price), Monthly\n",
        "print('\\033[4mPrice of U.S. Natural Gas Imports (Price), Monthly (Dollars per Thousand Cubic Feet)\\033[0m')\n",
        "def retrieve_time_series(api, series_ID):\n",
        "    \"\"\"\n",
        "    Return the time series dataframe, based on API and unique Series ID\n",
        "    \"\"\"\n",
        "    #Retrieve Data By Series ID \n",
        "    series_search = api.data_by_series(series=series_ID)\n",
        "    ##Create a pandas dataframe from the retrieved time series\n",
        "    price_im = pd.DataFrame(series_search)\n",
        "    return price_im\n",
        "\n",
        "def main():\n",
        "    \"\"\"\n",
        "    Run main script\n",
        "    \"\"\"\n",
        "    try:\n",
        "      #Create EIA API using your specific API key\n",
        "      api_key = \"ad819ee5a69e69390eadf300fa168fa8\"\n",
        "      api = eia.API(api_key)\n",
        "      #Declare desired series ID\n",
        "      series_ID='NG.N9100US3.M'\n",
        "      price_im = retrieve_time_series(api, series_ID)\n",
        "      #Print the returned dataframe df\n",
        "      print(type(price_im))\n",
        "      return price_im;\n",
        "    except Exception as e:\n",
        "      print(\"error\", e)\n",
        "      return pd.DataFrame(columns=None)\n",
        "price_im = main()\n",
        "price_im = price_im.rename({'Price of U.S. Natural Gas Imports, Monthly (Dollars per Thousand Cubic Feet)': 'price_im'}, axis = 'columns')\n",
        "price_im = price_im.reset_index()\n",
        "price_im['Date']= pd.to_datetime(price_im['index']) \n",
        "price_im.set_index('Date', inplace=True) # setting index column\n",
        "price_im = price_im.loc['2000-01-01':,['price_im']] # setting date range\n",
        "price_im = price_im.astype(float)\n",
        "price_im = price_im.resample('D').ffill().bfill()\n",
        "price_im = price_im/21\n",
        "\n",
        "# Price of U.S. Natural Gas Imports (Volume), Monthly\n",
        "print('\\033[4mPrice of U.S. Natural Gas Imports (Volume), Monthly (Dollars per Thousand Cubic Feet)\\033[0m')\n",
        "def retrieve_time_series(api, series_ID):\n",
        "    \"\"\"\n",
        "    Return the time series dataframe, based on API and unique Series ID\n",
        "    \"\"\"\n",
        "    #Retrieve Data By Series ID \n",
        "    series_search = api.data_by_series(series=series_ID)\n",
        "    ##Create a pandas dataframe from the retrieved time series\n",
        "    vl_import = pd.DataFrame(series_search)\n",
        "    return vl_import\n",
        "\n",
        "def main():\n",
        "    \"\"\"\n",
        "    Run main script\n",
        "    \"\"\"\n",
        "    try:\n",
        "      #Create EIA API using your specific API key\n",
        "      api_key = \"ad819ee5a69e69390eadf300fa168fa8\"\n",
        "      api = eia.API(api_key)\n",
        "      #Declare desired series ID\n",
        "      series_ID='NG.N9100US2.M'\n",
        "      vl_import = retrieve_time_series(api, series_ID)\n",
        "      #Print the returned dataframe df\n",
        "      print(type(vl_import))\n",
        "      return vl_import;\n",
        "    except Exception as e:\n",
        "      print(\"error\", e)\n",
        "      return pd.DataFrame(columns=None)\n",
        "vl_import = main()\n",
        "vl_import = vl_import.rename({'U.S. Natural Gas Imports, Monthly (Million Cubic Feet)': 'vl_import'}, axis = 'columns')\n",
        "vl_import = vl_import.reset_index()\n",
        "vl_import['Date']= pd.to_datetime(vl_import['index']) \n",
        "vl_import.set_index('Date', inplace=True) # setting index column\n",
        "vl_import = vl_import.loc['2000-01-01':,['vl_import']] # setting date range\n",
        "vl_import = vl_import.astype(float)\n",
        "vl_import = vl_import.resample('D').ffill().bfill()\n",
        "vl_import = vl_import/21"
      ],
      "execution_count": 0,
      "outputs": [
        {
          "output_type": "stream",
          "text": [
            "\u001b[4mPrice of U.S. Natural Gas Exports (Price), Monthly\u001b[0m\n"
          ],
          "name": "stdout"
        },
        {
          "output_type": "display_data",
          "data": {
            "application/javascript": [
              "\n",
              "        if (window._pyforest_update_imports_cell) { window._pyforest_update_imports_cell('import pandas as pd\\nimport bokeh\\nimport sklearn\\nimport plotly as py\\nimport pydot\\nimport matplotlib as mpl\\nimport os\\nimport plotly.express as px\\nimport numpy as np\\nimport altair as alt\\nimport plotly.graph_objs as go'); }\n",
              "    "
            ],
            "text/plain": [
              "<IPython.core.display.Javascript object>"
            ]
          },
          "metadata": {
            "tags": []
          }
        },
        {
          "output_type": "stream",
          "text": [
            "<class 'pandas.core.frame.DataFrame'>\n"
          ],
          "name": "stdout"
        },
        {
          "output_type": "display_data",
          "data": {
            "application/javascript": [
              "\n",
              "        if (window._pyforest_update_imports_cell) { window._pyforest_update_imports_cell('import pandas as pd\\nimport bokeh\\nimport sklearn\\nimport plotly as py\\nimport pydot\\nimport matplotlib as mpl\\nimport os\\nimport plotly.express as px\\nimport numpy as np\\nimport altair as alt\\nimport plotly.graph_objs as go'); }\n",
              "    "
            ],
            "text/plain": [
              "<IPython.core.display.Javascript object>"
            ]
          },
          "metadata": {
            "tags": []
          }
        },
        {
          "output_type": "stream",
          "text": [
            "\u001b[4mPrice of U.S. Natural Gas Imports (Price), Monthly (Dollars per Thousand Cubic Feet)\u001b[0m\n"
          ],
          "name": "stdout"
        },
        {
          "output_type": "display_data",
          "data": {
            "application/javascript": [
              "\n",
              "        if (window._pyforest_update_imports_cell) { window._pyforest_update_imports_cell('import pandas as pd\\nimport bokeh\\nimport sklearn\\nimport plotly as py\\nimport pydot\\nimport matplotlib as mpl\\nimport os\\nimport plotly.express as px\\nimport numpy as np\\nimport altair as alt\\nimport plotly.graph_objs as go'); }\n",
              "    "
            ],
            "text/plain": [
              "<IPython.core.display.Javascript object>"
            ]
          },
          "metadata": {
            "tags": []
          }
        },
        {
          "output_type": "stream",
          "text": [
            "<class 'pandas.core.frame.DataFrame'>\n"
          ],
          "name": "stdout"
        },
        {
          "output_type": "display_data",
          "data": {
            "application/javascript": [
              "\n",
              "        if (window._pyforest_update_imports_cell) { window._pyforest_update_imports_cell('import pandas as pd\\nimport bokeh\\nimport sklearn\\nimport plotly as py\\nimport pydot\\nimport matplotlib as mpl\\nimport os\\nimport plotly.express as px\\nimport numpy as np\\nimport altair as alt\\nimport plotly.graph_objs as go'); }\n",
              "    "
            ],
            "text/plain": [
              "<IPython.core.display.Javascript object>"
            ]
          },
          "metadata": {
            "tags": []
          }
        },
        {
          "output_type": "stream",
          "text": [
            "\u001b[4mPrice of U.S. Natural Gas Imports (Volume), Monthly (Dollars per Thousand Cubic Feet)\u001b[0m\n"
          ],
          "name": "stdout"
        },
        {
          "output_type": "display_data",
          "data": {
            "application/javascript": [
              "\n",
              "        if (window._pyforest_update_imports_cell) { window._pyforest_update_imports_cell('import pandas as pd\\nimport bokeh\\nimport sklearn\\nimport plotly as py\\nimport pydot\\nimport matplotlib as mpl\\nimport os\\nimport plotly.express as px\\nimport numpy as np\\nimport altair as alt\\nimport plotly.graph_objs as go'); }\n",
              "    "
            ],
            "text/plain": [
              "<IPython.core.display.Javascript object>"
            ]
          },
          "metadata": {
            "tags": []
          }
        },
        {
          "output_type": "stream",
          "text": [
            "<class 'pandas.core.frame.DataFrame'>\n"
          ],
          "name": "stdout"
        },
        {
          "output_type": "display_data",
          "data": {
            "application/javascript": [
              "\n",
              "        if (window._pyforest_update_imports_cell) { window._pyforest_update_imports_cell('import pandas as pd\\nimport bokeh\\nimport sklearn\\nimport plotly as py\\nimport pydot\\nimport matplotlib as mpl\\nimport os\\nimport plotly.express as px\\nimport numpy as np\\nimport altair as alt\\nimport plotly.graph_objs as go'); }\n",
              "    "
            ],
            "text/plain": [
              "<IPython.core.display.Javascript object>"
            ]
          },
          "metadata": {
            "tags": []
          }
        }
      ]
    },
    {
      "cell_type": "code",
      "metadata": {
        "id": "Tn-3mDL8vU52",
        "colab_type": "code",
        "colab": {}
      },
      "source": [
        "# Natural Gas\n",
        "print('\\033[4mNatural Gas Prices\\033[0m')\n",
        "data = quandl.get(\"CHRIS/CME_NG1\", authtoken=\"LSQpgUzwJRoF667ZpzyL\") \n",
        "data = data.loc['2000-01-01':,]\n",
        "data"
      ],
      "execution_count": 0,
      "outputs": []
    },
    {
      "cell_type": "code",
      "metadata": {
        "id": "Iaw6_y-vvugU",
        "colab_type": "code",
        "outputId": "cf1ce2f5-54b3-4281-9994-041d125683c1",
        "colab": {
          "base_uri": "https://localhost:8080/",
          "height": 431
        }
      },
      "source": [
        "data = data [['Open', 'High', 'Low', 'Last', 'Settle', 'Volume']].copy()\n",
        "data.rename(columns ={'Last': 'Close', 'Settle': 'Adj Close'}, inplace=True)\n",
        "data"
      ],
      "execution_count": 0,
      "outputs": [
        {
          "output_type": "execute_result",
          "data": {
            "text/html": [
              "<div>\n",
              "<style scoped>\n",
              "    .dataframe tbody tr th:only-of-type {\n",
              "        vertical-align: middle;\n",
              "    }\n",
              "\n",
              "    .dataframe tbody tr th {\n",
              "        vertical-align: top;\n",
              "    }\n",
              "\n",
              "    .dataframe thead th {\n",
              "        text-align: right;\n",
              "    }\n",
              "</style>\n",
              "<table border=\"1\" class=\"dataframe\">\n",
              "  <thead>\n",
              "    <tr style=\"text-align: right;\">\n",
              "      <th></th>\n",
              "      <th>Open</th>\n",
              "      <th>High</th>\n",
              "      <th>Low</th>\n",
              "      <th>Close</th>\n",
              "      <th>Adj Close</th>\n",
              "      <th>Volume</th>\n",
              "    </tr>\n",
              "    <tr>\n",
              "      <th>Date</th>\n",
              "      <th></th>\n",
              "      <th></th>\n",
              "      <th></th>\n",
              "      <th></th>\n",
              "      <th></th>\n",
              "      <th></th>\n",
              "    </tr>\n",
              "  </thead>\n",
              "  <tbody>\n",
              "    <tr>\n",
              "      <th>2000-01-04</th>\n",
              "      <td>2.180</td>\n",
              "      <td>2.200</td>\n",
              "      <td>2.130</td>\n",
              "      <td>2.176</td>\n",
              "      <td>2.176</td>\n",
              "      <td>30152.0</td>\n",
              "    </tr>\n",
              "    <tr>\n",
              "      <th>2000-01-05</th>\n",
              "      <td>2.180</td>\n",
              "      <td>2.200</td>\n",
              "      <td>2.125</td>\n",
              "      <td>2.168</td>\n",
              "      <td>2.168</td>\n",
              "      <td>27946.0</td>\n",
              "    </tr>\n",
              "    <tr>\n",
              "      <th>2000-01-06</th>\n",
              "      <td>2.175</td>\n",
              "      <td>2.220</td>\n",
              "      <td>2.165</td>\n",
              "      <td>2.196</td>\n",
              "      <td>2.196</td>\n",
              "      <td>29071.0</td>\n",
              "    </tr>\n",
              "    <tr>\n",
              "      <th>2000-01-07</th>\n",
              "      <td>2.210</td>\n",
              "      <td>2.230</td>\n",
              "      <td>2.155</td>\n",
              "      <td>2.173</td>\n",
              "      <td>2.173</td>\n",
              "      <td>28455.0</td>\n",
              "    </tr>\n",
              "    <tr>\n",
              "      <th>2000-01-10</th>\n",
              "      <td>2.180</td>\n",
              "      <td>2.255</td>\n",
              "      <td>2.165</td>\n",
              "      <td>2.216</td>\n",
              "      <td>2.216</td>\n",
              "      <td>28916.0</td>\n",
              "    </tr>\n",
              "    <tr>\n",
              "      <th>...</th>\n",
              "      <td>...</td>\n",
              "      <td>...</td>\n",
              "      <td>...</td>\n",
              "      <td>...</td>\n",
              "      <td>...</td>\n",
              "      <td>...</td>\n",
              "    </tr>\n",
              "    <tr>\n",
              "      <th>2020-05-15</th>\n",
              "      <td>1.675</td>\n",
              "      <td>1.732</td>\n",
              "      <td>1.634</td>\n",
              "      <td>1.636</td>\n",
              "      <td>1.646</td>\n",
              "      <td>162964.0</td>\n",
              "    </tr>\n",
              "    <tr>\n",
              "      <th>2020-05-18</th>\n",
              "      <td>1.725</td>\n",
              "      <td>1.851</td>\n",
              "      <td>1.702</td>\n",
              "      <td>1.766</td>\n",
              "      <td>1.783</td>\n",
              "      <td>217242.0</td>\n",
              "    </tr>\n",
              "    <tr>\n",
              "      <th>2020-05-19</th>\n",
              "      <td>1.769</td>\n",
              "      <td>1.857</td>\n",
              "      <td>1.763</td>\n",
              "      <td>1.797</td>\n",
              "      <td>1.830</td>\n",
              "      <td>229500.0</td>\n",
              "    </tr>\n",
              "    <tr>\n",
              "      <th>2020-05-20</th>\n",
              "      <td>1.804</td>\n",
              "      <td>1.889</td>\n",
              "      <td>1.743</td>\n",
              "      <td>1.781</td>\n",
              "      <td>1.771</td>\n",
              "      <td>151908.0</td>\n",
              "    </tr>\n",
              "    <tr>\n",
              "      <th>2020-05-21</th>\n",
              "      <td>1.778</td>\n",
              "      <td>1.785</td>\n",
              "      <td>1.692</td>\n",
              "      <td>1.720</td>\n",
              "      <td>1.710</td>\n",
              "      <td>97515.0</td>\n",
              "    </tr>\n",
              "  </tbody>\n",
              "</table>\n",
              "<p>5111 rows × 6 columns</p>\n",
              "</div>"
            ],
            "text/plain": [
              "             Open   High    Low  Close  Adj Close    Volume\n",
              "Date                                                       \n",
              "2000-01-04  2.180  2.200  2.130  2.176      2.176   30152.0\n",
              "2000-01-05  2.180  2.200  2.125  2.168      2.168   27946.0\n",
              "2000-01-06  2.175  2.220  2.165  2.196      2.196   29071.0\n",
              "2000-01-07  2.210  2.230  2.155  2.173      2.173   28455.0\n",
              "2000-01-10  2.180  2.255  2.165  2.216      2.216   28916.0\n",
              "...           ...    ...    ...    ...        ...       ...\n",
              "2020-05-15  1.675  1.732  1.634  1.636      1.646  162964.0\n",
              "2020-05-18  1.725  1.851  1.702  1.766      1.783  217242.0\n",
              "2020-05-19  1.769  1.857  1.763  1.797      1.830  229500.0\n",
              "2020-05-20  1.804  1.889  1.743  1.781      1.771  151908.0\n",
              "2020-05-21  1.778  1.785  1.692  1.720      1.710   97515.0\n",
              "\n",
              "[5111 rows x 6 columns]"
            ]
          },
          "metadata": {
            "tags": []
          },
          "execution_count": 43
        }
      ]
    },
    {
      "cell_type": "code",
      "metadata": {
        "id": "gaHCkkctwZdx",
        "colab_type": "code",
        "colab": {}
      },
      "source": [
        "data.isnull()"
      ],
      "execution_count": 0,
      "outputs": []
    },
    {
      "cell_type": "code",
      "metadata": {
        "id": "lOMJhYBIcFCm",
        "colab_type": "code",
        "colab": {}
      },
      "source": [
        "#data = web.DataReader('NG=F', data_source = 'yahoo', start = '2000-01-01')\n",
        "#data"
      ],
      "execution_count": 0,
      "outputs": []
    },
    {
      "cell_type": "code",
      "metadata": {
        "id": "5SN5MAivioGm",
        "colab_type": "code",
        "colab": {}
      },
      "source": [
        "from sklearn.model_selection import GridSearchCV\n",
        "\n",
        "parameters = {'nthread':[4], #when use hyperthread, xgboost may become slower\n",
        "              'objective':['reg:squarederror'],\n",
        "              'learning_rate': [0.0001, 0.1, 0.03, 0.05, 0.07], #so called `eta` value\n",
        "              'max_depth': [3, 5, 6],\n",
        "              'min_child_weight': [4],\n",
        "              'silent': [1],\n",
        "              'subsample': [0.7, 1],\n",
        "              'colsample_bytree': [0.7, 1],\n",
        "              'n_estimators': [100, 200, 300, 500]}\n",
        "\n",
        "clf_grid = GridSearchCV(regressor,\n",
        "                   parameters,\n",
        "                   cv = tscv,\n",
        "                   n_jobs = 4,\n",
        "                   verbose=True)\n",
        "\n",
        "clf_grid.fit(X1_train,y1_train)\n",
        "\n",
        "print(clf_grid.best_score_)\n",
        "print(clf_grid.best_params_)"
      ],
      "execution_count": 0,
      "outputs": []
    },
    {
      "cell_type": "code",
      "metadata": {
        "id": "_kN7tTbtZ8ZO",
        "colab_type": "code",
        "outputId": "cc13c54d-0a37-44c6-d2e1-c9eb2c547973",
        "colab": {
          "base_uri": "https://localhost:8080/",
          "height": 17
        }
      },
      "source": [
        "# Merging relevant features\n",
        "merge1 = data.join(coal, how='left').ffill().bfill()\n",
        "merge2 = merge1.join(vl_import, how='left').ffill().bfill()\n",
        "merge3 = merge2.join(price_im, how='left').ffill().bfill()\n",
        "merge4 = merge3.join(pr_export, how='left').ffill().bfill()\n",
        "merge5 = merge4.join(drilling, how='left').ffill().bfill()\n",
        "\n",
        "Data = merge5.copy()\n",
        "Data.drop(['Powder River Basin 8,800 Btu, 0.8 SO2',\n",
        "              'Uinta Basin 11,700 Btu, 0.8 SO2', \n",
        "           'High', 'Low', 'Close', 'Volume',\n",
        "           'Adj Close'], axis=1, inplace=True)\n",
        "\n",
        "Data['sma2'] = Data.Open.rolling(window=2).mean()\n",
        "Data['sma20'] = Data['Open'].rolling(window=20).mean()\n",
        "Data[\"sma2_1\"] = Data.sma2.shift(1)\n",
        "\n",
        "Data[\"sma2_increment\"] = Data.sma2.diff()  \n",
        "\n",
        "Data[\"sma2_1_increment\"] = Data.sma2_1.diff()  \n",
        "\n",
        "Data[\"open_1\"] = Data.Open.shift(1)\n",
        "\n",
        "Data[\"open_incr\"] = Data.Open -Data.Open.shift(1)\n",
        "\n",
        "# feature engineering\n",
        "Data['day_of_week'] = Data.index.dayofweek\n",
        "Data['day_of_month'] = Data.index.day\n",
        "\n",
        "# The rows with nulls generated by rolling values will be removed.\n",
        "Data.dropna(inplace=True)\n",
        "\n",
        "# creating target variable\n",
        "Data['target'] = (Data.sma2.shift(-1) - Data.sma2)\n",
        "Data.dropna(inplace=True)\n",
        "n = Data.drop(['target'], axis=1) # storing in a dataframe for future use\n",
        "\n",
        "X1 = np.array(Data.copy().drop(['target', 'Open' ], axis=1))\n",
        "y1 = np.array(Data['target']).copy()\n",
        "\n",
        "X1_train, X1_test, y1_train, y1_test = train_test_split(X1, y1, test_size = 0.20, \n",
        "                                                    random_state=42, shuffle=False)\n",
        "tscv = TimeSeriesSplit(max_train_size=None, n_splits=5)\n",
        "#TimeSeriesSplit(max_train_size=0.80, n_splits=10)\n",
        "for train_samples, test_samples in tscv.split(X1_train, y1_train):\n",
        "  #print(\"TRAIN:\", train_samples, \"TEST:\", test_samples)\n",
        "  X1_train, X1_test = X1[train_samples], X1[test_samples]\n",
        "  y1_train, y1_test = y1[train_samples], y1[test_samples]\n",
        "\n",
        "y1_train = pd.DataFrame(y1_train)\n",
        "y1_train.rename(columns = {0: 'target'}, inplace=True)\n",
        "\n",
        "y1_test = pd.DataFrame(y1_test)\n",
        "y1_test.rename(columns = {0: 'target'}, inplace=True)\n",
        "\n",
        "#The target variables will be transformed for binary classification. \n",
        "# A positive change in the value of prices will be classified as 1 and a non-positive change as 0.\n",
        "\n",
        "def getBinary(val):\n",
        "    if val>0:\n",
        "        return 1\n",
        "    else:\n",
        "        return 0\n",
        "\n",
        "# and the transformation is applied on the test data for later use.\n",
        "# The train data will be transformed while it is being fit.\n",
        "y1_test_binary = pd.DataFrame(y1_test[\"target\"].apply(getBinary))\n",
        "\n",
        "regressor = XGBRegressor(objective='reg:squarederror',\n",
        "                         n_estimators=100,min_child_weight = 4,\n",
        "                         subsample= 0.7, silent = 1,nthread = 4,\n",
        "                         colsample_bytree=1,learning_rate=0.05)\n",
        "\n",
        "Model = regressor.fit(X1_train, y1_train.target.apply(getBinary))\n",
        "lg_pred = Model.predict(X1_test)\n",
        "lg_pred_binary = [1 if yp > 0.5 else 0 for yp in lg_pred]\n",
        "accuracy = (accuracy_score(y1_test_binary,lg_pred_binary))\n",
        "print(\"Accuracy: %.2f%%\" % (accuracy * 100.0))\n"
      ],
      "execution_count": 0,
      "outputs": [
        {
          "output_type": "display_data",
          "data": {
            "application/javascript": [
              "\n",
              "        if (window._pyforest_update_imports_cell) { window._pyforest_update_imports_cell('import pandas as pd\\nimport bokeh\\nimport sklearn\\nimport plotly as py\\nimport pydot\\nimport matplotlib as mpl\\nfrom sklearn.ensemble import RandomForestRegressor\\nimport re\\nimport os\\nimport plotly.express as px\\nimport numpy as np\\nimport altair as alt\\nfrom sklearn.ensemble import RandomForestClassifier\\nimport plotly.graph_objs as go'); }\n",
              "    "
            ],
            "text/plain": [
              "<IPython.core.display.Javascript object>"
            ]
          },
          "metadata": {
            "tags": []
          }
        },
        {
          "output_type": "display_data",
          "data": {
            "application/javascript": [
              "\n",
              "        if (window._pyforest_update_imports_cell) { window._pyforest_update_imports_cell('import pandas as pd\\nimport bokeh\\nimport sklearn\\nimport plotly as py\\nimport pydot\\nimport matplotlib as mpl\\nfrom sklearn.ensemble import RandomForestRegressor\\nimport re\\nimport os\\nimport plotly.express as px\\nimport numpy as np\\nimport altair as alt\\nfrom sklearn.ensemble import RandomForestClassifier\\nimport plotly.graph_objs as go'); }\n",
              "    "
            ],
            "text/plain": [
              "<IPython.core.display.Javascript object>"
            ]
          },
          "metadata": {
            "tags": []
          }
        },
        {
          "output_type": "display_data",
          "data": {
            "application/javascript": [
              "\n",
              "        if (window._pyforest_update_imports_cell) { window._pyforest_update_imports_cell('import pandas as pd\\nimport bokeh\\nimport sklearn\\nimport plotly as py\\nimport pydot\\nimport matplotlib as mpl\\nfrom sklearn.ensemble import RandomForestRegressor\\nimport re\\nimport os\\nimport plotly.express as px\\nimport numpy as np\\nimport altair as alt\\nfrom sklearn.ensemble import RandomForestClassifier\\nimport plotly.graph_objs as go'); }\n",
              "    "
            ],
            "text/plain": [
              "<IPython.core.display.Javascript object>"
            ]
          },
          "metadata": {
            "tags": []
          }
        },
        {
          "output_type": "display_data",
          "data": {
            "application/javascript": [
              "\n",
              "        if (window._pyforest_update_imports_cell) { window._pyforest_update_imports_cell('import pandas as pd\\nimport bokeh\\nimport sklearn\\nimport plotly as py\\nimport pydot\\nimport matplotlib as mpl\\nfrom sklearn.ensemble import RandomForestRegressor\\nimport re\\nimport os\\nimport plotly.express as px\\nimport numpy as np\\nimport altair as alt\\nfrom sklearn.ensemble import RandomForestClassifier\\nimport plotly.graph_objs as go'); }\n",
              "    "
            ],
            "text/plain": [
              "<IPython.core.display.Javascript object>"
            ]
          },
          "metadata": {
            "tags": []
          }
        },
        {
          "output_type": "display_data",
          "data": {
            "application/javascript": [
              "\n",
              "        if (window._pyforest_update_imports_cell) { window._pyforest_update_imports_cell('import pandas as pd\\nimport bokeh\\nimport sklearn\\nimport plotly as py\\nimport pydot\\nimport matplotlib as mpl\\nfrom sklearn.ensemble import RandomForestRegressor\\nimport re\\nimport os\\nimport plotly.express as px\\nimport numpy as np\\nimport altair as alt\\nfrom sklearn.ensemble import RandomForestClassifier\\nimport plotly.graph_objs as go'); }\n",
              "    "
            ],
            "text/plain": [
              "<IPython.core.display.Javascript object>"
            ]
          },
          "metadata": {
            "tags": []
          }
        }
      ]
    },
    {
      "cell_type": "code",
      "metadata": {
        "id": "xfzvfBDngalf",
        "colab_type": "code",
        "outputId": "b706389d-3fdc-429b-ef68-b49e1eb6f495",
        "colab": {
          "base_uri": "https://localhost:8080/",
          "height": 67
        }
      },
      "source": [
        "print('\\033[4mNext day Open price direction\\033[0m')\n",
        "pred = pd.DataFrame(lg_pred_binary[-1:])\n",
        "pred.rename(columns = {0: 'forecast'}, inplace=True)\n",
        "d = Data.tail()\n",
        "d.reset_index(inplace=True)\n",
        "d = d.append(pd.DataFrame({'Date': pd.date_range(start=d.Date.iloc[-1], \n",
        "                                             periods=3, freq='B', closed='right')}))\n",
        "d.set_index('Date', inplace=True)\n",
        "d = d.tail(1)\n",
        "pred.index = d.index\n",
        "pred = pred.assign(day_of_week = lambda x: x.index.day_name())\n",
        "pred['forecast'].replace([0,1],['Open_down','Open_up'],inplace=True)\n",
        "pred= pred.reset_index()\n",
        "print(pred)\n"
      ],
      "execution_count": 0,
      "outputs": [
        {
          "output_type": "stream",
          "text": [
            "\u001b[4mNext day Open price direction\u001b[0m\n"
          ],
          "name": "stdout"
        },
        {
          "output_type": "display_data",
          "data": {
            "application/javascript": [
              "\n",
              "        if (window._pyforest_update_imports_cell) { window._pyforest_update_imports_cell('import pandas as pd\\nimport numpy as np'); }\n",
              "    "
            ],
            "text/plain": [
              "<IPython.core.display.Javascript object>"
            ]
          },
          "metadata": {
            "tags": []
          }
        },
        {
          "output_type": "display_data",
          "data": {
            "application/javascript": [
              "\n",
              "        if (window._pyforest_update_imports_cell) { window._pyforest_update_imports_cell('import pandas as pd\\nimport numpy as np'); }\n",
              "    "
            ],
            "text/plain": [
              "<IPython.core.display.Javascript object>"
            ]
          },
          "metadata": {
            "tags": []
          }
        },
        {
          "output_type": "display_data",
          "data": {
            "application/javascript": [
              "\n",
              "        if (window._pyforest_update_imports_cell) { window._pyforest_update_imports_cell('import pandas as pd\\nimport numpy as np'); }\n",
              "    "
            ],
            "text/plain": [
              "<IPython.core.display.Javascript object>"
            ]
          },
          "metadata": {
            "tags": []
          }
        },
        {
          "output_type": "stream",
          "text": [
            "        Date   forecast day_of_week\n",
            "0 2020-05-22  Open_down      Friday\n"
          ],
          "name": "stdout"
        }
      ]
    },
    {
      "cell_type": "code",
      "metadata": {
        "id": "ERHgKEQB0CNP",
        "colab_type": "code",
        "outputId": "82596aea-f351-45cb-f498-04cce19c389c",
        "colab": {
          "base_uri": "https://localhost:8080/",
          "height": 405
        }
      },
      "source": [
        "# For each day where open price > 0, we set the signal 1 means sell  and < 0, we set signal 0, to buy \n",
        "print('\\033[4mFor each day where open price = 0 = black arrow head  and 1 = green arrow head \\033[0m')\n",
        "buys = Data.loc[Data['target']  <0]\n",
        "sells = Data.loc[Data['target'] > 0]\n",
        "\n",
        "# Plot \n",
        "fig = plt.figure(figsize=(20, 5))\n",
        "plt.plot(Data.index, Data['Open'], color = 'gray', lw=2., label='Open')\n",
        "\n",
        "# Plot the buy and sell signals on the same plot\n",
        "plt.plot(buys.index, Data.loc[buys.index]['Open'], '^', markersize=5, color='r',\n",
        "         lw=2., label='Buy')\n",
        "plt.plot(sells.index, Data.loc[sells.index]['Open'], 'v', markersize=5, color='g',\n",
        "         lw=2., label='Sell')\n",
        "plt.ylabel('Price (USD/Mbtu)')\n",
        "plt.xlabel('Date')\n",
        "plt.title('Buy and sell signals plot')\n",
        "plt.legend(loc=0)\n",
        "\n",
        "# Display everything\n",
        "plt.show()\n",
        "print('\\n')"
      ],
      "execution_count": 0,
      "outputs": [
        {
          "output_type": "stream",
          "text": [
            "\u001b[4mFor each day where open price = 0 = black arrow head  and 1 = green arrow head \u001b[0m\n"
          ],
          "name": "stdout"
        },
        {
          "output_type": "display_data",
          "data": {
            "image/png": "[encoded data removed]",
            "text/plain": [
              "<Figure size 1440x360 with 1 Axes>"
            ]
          },
          "metadata": {
            "tags": [],
            "needs_background": "light"
          }
        },
        {
          "output_type": "stream",
          "text": [
            "\n",
            "\n"
          ],
          "name": "stdout"
        }
      ]
    },
    {
      "cell_type": "markdown",
      "metadata": {
        "id": "qN64JlgOilwF",
        "colab_type": "text"
      },
      "source": [
        "## Open"
      ]
    },
    {
      "cell_type": "code",
      "metadata": {
        "id": "d9bTPmLA-w1b",
        "colab_type": "code",
        "colab": {}
      },
      "source": [
        "# Merging relevant features\n",
        "merge1 = data.join(coal, how='left').ffill().bfill()\n",
        "merge2 = merge1.join(vl_import, how='left').ffill().bfill()\n",
        "merge3 = merge2.join(price_im, how='left').ffill().bfill()\n",
        "merge4 = merge3.join(pr_export, how='left').ffill().bfill()\n",
        "merge5 = merge4.join(drilling, how='left').ffill().bfill()\n",
        "\n",
        "df1 = merge5.copy()\n",
        "df1.drop(['Powder River Basin 8,800 Btu, 0.8 SO2',\n",
        "              'Uinta Basin 11,700 Btu, 0.8 SO2', \n",
        "           'High', 'Low', 'Close', 'Volume',\n",
        "           'Adj Close'], axis=1, inplace=True)\n",
        "\n",
        "\n",
        "df1['sma3'] = df1.Open.rolling(window=3).mean()\n",
        "df1['sma9'] = df1['Open'].rolling(window=9).mean()\n",
        "df1['sma20'] = df1['Open'].rolling(window=20).mean()\n",
        "#df1[\"open_1\"] = df1.Open.shift(1)\n",
        "\n",
        "df1['ROC'] = ((df1['Open'] - df1['Open'].shift(5)) / (df1['Open'].shift(5)))*100\n",
        "\n",
        "# Creating Bollinger Bands\n",
        "#Set number of days and standard deviations to use for rolling lookback period for Bollinger band calculation\n",
        "window = 21\n",
        "no_of_std = 2\n",
        "#Calculate rolling mean and standard deviation using number of days set above\n",
        "#rolling_mean = df1.Open.rolling(window).mean()\n",
        "#rolling_std = df1.Open.rolling(window).std()\n",
        "#create two new DataFrame columns to hold values of upper and lower Bollinger bands\n",
        "#B['Rolling Mean'] = rolling_mean.fillna(0)\n",
        "#df1['bb_high'] = (rolling_mean + (rolling_std * no_of_std))\n",
        "#df1['bb_low'] = (rolling_mean - (rolling_std * no_of_std))\n",
        "\n",
        "# Create Exponential moving average\n",
        "#df1['ema'] = df1.Open.ewm(com=0.5).mean()\n",
        "\n",
        "# feature engineering\n",
        "df1['day_of_week'] = df1.index.dayofweek\n",
        "df1['day_of_month'] = df1.index.day\n",
        "\n",
        "df1['label'] = df1.Open.shift(-10) \n",
        "df1.dropna(inplace=True)\n",
        "\n",
        "# The rows with nulls generated by rolling values will be removed.\n",
        "df1.tail(10)"
      ],
      "execution_count": 0,
      "outputs": []
    },
    {
      "cell_type": "code",
      "metadata": {
        "id": "xpZDEloFvWTI",
        "colab_type": "code",
        "colab": {}
      },
      "source": [
        "df1.tail()"
      ],
      "execution_count": 0,
      "outputs": []
    },
    {
      "cell_type": "code",
      "metadata": {
        "id": "xZXY4g67dGe-",
        "colab_type": "code",
        "colab": {}
      },
      "source": [
        "from sklearn.linear_model import LinearRegression\n",
        "from sklearn import preprocessing\n",
        "from sklearn.linear_model import SGDRegressor"
      ],
      "execution_count": 0,
      "outputs": []
    },
    {
      "cell_type": "code",
      "metadata": {
        "id": "s_CUHaEbi7ay",
        "colab_type": "code",
        "outputId": "05d4cb95-c351-46bc-a803-238113bc3cf8",
        "colab": {
          "base_uri": "https://localhost:8080/",
          "height": 67
        }
      },
      "source": [
        "X = np.array(df1.copy().drop(['label'], axis=1))\n",
        "y = np.array(df1['label']).copy()  # assigning Y\n",
        "\n",
        "X_train, X_test, y_train, y_test = train_test_split(X, y, test_size = 0.2, \n",
        "                                                    random_state=42, shuffle=False)\n",
        "tscv = TimeSeriesSplit(max_train_size=None, n_splits=10)\n",
        "#TimeSeriesSplit(max_train_size=0.80, n_splits=10)\n",
        "for train_samples, test_samples in tscv.split(X_train, y_train):\n",
        "  #print(\"TRAIN:\", train_samples, \"TEST:\", test_samples)\n",
        "  X_train, X_test = X[train_samples], X[test_samples]\n",
        "  y_train, y_test = y[train_samples], y[test_samples]\n",
        "\n",
        "learner = LinearRegression()\n",
        "#XGBRegressor(objective ='reg:squarederror'); #initializing linear regression model\n",
        "\n",
        "learner.fit(X_train,y_train); #training the linear regression model\n",
        "op_score=learner.score(X_test,y_test);#testing the linear regression model\n",
        "\n",
        "y_pred = learner.predict(X_test); \n",
        "forecast = y_pred[-10:] #set that will contain the forecasted data\n",
        "op_score = round(op_score*100,2).astype(str) + '%'\n",
        "print(op_score); print(forecast);"
      ],
      "execution_count": 0,
      "outputs": [
        {
          "output_type": "display_data",
          "data": {
            "application/javascript": [
              "\n",
              "        if (window._pyforest_update_imports_cell) { window._pyforest_update_imports_cell('import pandas as pd\\nimport bokeh\\nimport plotly as py\\nimport pydot\\nimport plotly.express as px\\nimport numpy as np\\nimport altair as alt'); }\n",
              "    "
            ],
            "text/plain": [
              "<IPython.core.display.Javascript object>"
            ]
          },
          "metadata": {
            "tags": []
          }
        },
        {
          "output_type": "display_data",
          "data": {
            "application/javascript": [
              "\n",
              "        if (window._pyforest_update_imports_cell) { window._pyforest_update_imports_cell('import pandas as pd\\nimport bokeh\\nimport plotly as py\\nimport pydot\\nimport plotly.express as px\\nimport numpy as np\\nimport altair as alt'); }\n",
              "    "
            ],
            "text/plain": [
              "<IPython.core.display.Javascript object>"
            ]
          },
          "metadata": {
            "tags": []
          }
        },
        {
          "output_type": "stream",
          "text": [
            "55.57%\n",
            "[1.7070722  1.71794007 1.68080594 1.65973306 1.72806276 1.69303784\n",
            " 1.67366561 1.73866795 1.76769234 1.71764222]\n"
          ],
          "name": "stdout"
        }
      ]
    },
    {
      "cell_type": "code",
      "metadata": {
        "id": "0HQAhzyDi4MO",
        "colab_type": "code",
        "outputId": "a27042b8-c65b-4994-e091-f55852b7985e",
        "colab": {
          "base_uri": "https://localhost:8080/",
          "height": 225
        }
      },
      "source": [
        "data.tail()"
      ],
      "execution_count": 0,
      "outputs": [
        {
          "output_type": "execute_result",
          "data": {
            "text/html": [
              "<div>\n",
              "<style scoped>\n",
              "    .dataframe tbody tr th:only-of-type {\n",
              "        vertical-align: middle;\n",
              "    }\n",
              "\n",
              "    .dataframe tbody tr th {\n",
              "        vertical-align: top;\n",
              "    }\n",
              "\n",
              "    .dataframe thead th {\n",
              "        text-align: right;\n",
              "    }\n",
              "</style>\n",
              "<table border=\"1\" class=\"dataframe\">\n",
              "  <thead>\n",
              "    <tr style=\"text-align: right;\">\n",
              "      <th></th>\n",
              "      <th>Open</th>\n",
              "      <th>High</th>\n",
              "      <th>Low</th>\n",
              "      <th>Close</th>\n",
              "      <th>Adj Close</th>\n",
              "      <th>Volume</th>\n",
              "    </tr>\n",
              "    <tr>\n",
              "      <th>Date</th>\n",
              "      <th></th>\n",
              "      <th></th>\n",
              "      <th></th>\n",
              "      <th></th>\n",
              "      <th></th>\n",
              "      <th></th>\n",
              "    </tr>\n",
              "  </thead>\n",
              "  <tbody>\n",
              "    <tr>\n",
              "      <th>2020-05-13</th>\n",
              "      <td>1.695</td>\n",
              "      <td>1.741</td>\n",
              "      <td>1.595</td>\n",
              "      <td>1.643</td>\n",
              "      <td>1.616</td>\n",
              "      <td>248140.0</td>\n",
              "    </tr>\n",
              "    <tr>\n",
              "      <th>2020-05-14</th>\n",
              "      <td>1.643</td>\n",
              "      <td>1.715</td>\n",
              "      <td>1.610</td>\n",
              "      <td>1.674</td>\n",
              "      <td>1.681</td>\n",
              "      <td>198874.0</td>\n",
              "    </tr>\n",
              "    <tr>\n",
              "      <th>2020-05-15</th>\n",
              "      <td>1.675</td>\n",
              "      <td>1.732</td>\n",
              "      <td>1.634</td>\n",
              "      <td>1.636</td>\n",
              "      <td>1.646</td>\n",
              "      <td>162964.0</td>\n",
              "    </tr>\n",
              "    <tr>\n",
              "      <th>2020-05-18</th>\n",
              "      <td>1.725</td>\n",
              "      <td>1.851</td>\n",
              "      <td>1.702</td>\n",
              "      <td>1.766</td>\n",
              "      <td>1.783</td>\n",
              "      <td>217242.0</td>\n",
              "    </tr>\n",
              "    <tr>\n",
              "      <th>2020-05-19</th>\n",
              "      <td>1.769</td>\n",
              "      <td>1.857</td>\n",
              "      <td>1.763</td>\n",
              "      <td>1.797</td>\n",
              "      <td>1.830</td>\n",
              "      <td>229500.0</td>\n",
              "    </tr>\n",
              "  </tbody>\n",
              "</table>\n",
              "</div>"
            ],
            "text/plain": [
              "             Open   High    Low  Close  Adj Close    Volume\n",
              "Date                                                       \n",
              "2020-05-13  1.695  1.741  1.595  1.643      1.616  248140.0\n",
              "2020-05-14  1.643  1.715  1.610  1.674      1.681  198874.0\n",
              "2020-05-15  1.675  1.732  1.634  1.636      1.646  162964.0\n",
              "2020-05-18  1.725  1.851  1.702  1.766      1.783  217242.0\n",
              "2020-05-19  1.769  1.857  1.763  1.797      1.830  229500.0"
            ]
          },
          "metadata": {
            "tags": []
          },
          "execution_count": 75
        }
      ]
    },
    {
      "cell_type": "code",
      "metadata": {
        "id": "7OCHVuFXFMtE",
        "colab_type": "code",
        "outputId": "3a72678d-50c7-4a71-906e-dfc884749900",
        "colab": {
          "base_uri": "https://localhost:8080/",
          "height": 34
        }
      },
      "source": [
        "from sklearn import metrics\n",
        "rmse1 = np.sqrt(metrics.mean_squared_error(y_test, learner.predict(X_test)))\n",
        "rmse1"
      ],
      "execution_count": 0,
      "outputs": [
        {
          "output_type": "display_data",
          "data": {
            "application/javascript": [
              "\n",
              "        if (window._pyforest_update_imports_cell) { window._pyforest_update_imports_cell('import plotly.graph_objs as go\\nimport altair as alt\\nimport bokeh\\nimport pydot\\nimport os\\nimport plotly.express as px\\nfrom sklearn.manifold import TSNE\\nimport numpy as np\\nimport pandas as pd\\nimport matplotlib as mpl\\nimport plotly as py\\nfrom sklearn.feature_extraction.text import TfidfVectorizer'); }\n",
              "    "
            ],
            "text/plain": [
              "<IPython.core.display.Javascript object>"
            ]
          },
          "metadata": {
            "tags": []
          }
        },
        {
          "output_type": "execute_result",
          "data": {
            "text/plain": [
              "0.3465242343778583"
            ]
          },
          "metadata": {
            "tags": []
          },
          "execution_count": 78
        }
      ]
    },
    {
      "cell_type": "code",
      "metadata": {
        "id": "zV6MamVGI6qh",
        "colab_type": "code",
        "outputId": "2dae1f59-2742-4b2f-dcb5-258b398ef236",
        "colab": {
          "base_uri": "https://localhost:8080/",
          "height": 425
        }
      },
      "source": [
        "# Feature importance\n",
        "plt.rcParams['figure.figsize'] = [10,6]\n",
        "plot_importance(learner)"
      ],
      "execution_count": 0,
      "outputs": [
        {
          "output_type": "execute_result",
          "data": {
            "text/plain": [
              "<matplotlib.axes._subplots.AxesSubplot at 0x7f4dd1cba438>"
            ]
          },
          "metadata": {
            "tags": []
          },
          "execution_count": 17
        },
        {
          "output_type": "display_data",
          "data": {
            "image/png": "[encoded data removed]",
            "text/plain": [
              "<Figure size 720x432 with 1 Axes>"
            ]
          },
          "metadata": {
            "tags": [],
            "needs_background": "light"
          }
        }
      ]
    },
    {
      "cell_type": "code",
      "metadata": {
        "id": "_STYI_c9hTI9",
        "colab_type": "code",
        "outputId": "e399a3b2-fd24-4a72-905e-d7e5639ca5a7",
        "colab": {
          "base_uri": "https://localhost:8080/",
          "height": 225
        }
      },
      "source": [
        "forecast = pd.DataFrame(forecast)\n",
        "\n",
        "open_forecast = forecast.copy()\n",
        "open_forecast = open_forecast.head()\n",
        "\n",
        "# assigning names to columns\n",
        "open_forecast.rename(columns = {0: 'open_predict'}, inplace=True)\n",
        "\n",
        "d = data.tail()\n",
        "d.reset_index(inplace=True)\n",
        "d = d.append(pd.DataFrame({'Date': pd.date_range(start=d.Date.iloc[-1], periods=6,\n",
        "                                             freq = 'B', closed='right')}))\n",
        "d.set_index('Date', inplace=True)\n",
        "d = d.tail()\n",
        "\n",
        "open_forecast.index = d.index\n",
        "open_forecast = open_forecast.assign(day_of_week = lambda x: x.index.day_name())\n",
        "\n",
        "open_forecast['diff'] = open_forecast['open_predict'].diff()\n",
        "\n",
        "open_forecast['direction'] = np.where(open_forecast['diff'] > 0, 1, 0)\n",
        "open_forecast['direction'].replace([0,1],['Open_down','Open_up'],inplace=True)\n",
        "open_forecast = open_forecast.round(decimals=2)\n",
        "open_forecast"
      ],
      "execution_count": 0,
      "outputs": [
        {
          "output_type": "display_data",
          "data": {
            "application/javascript": [
              "\n",
              "        if (window._pyforest_update_imports_cell) { window._pyforest_update_imports_cell('import pandas as pd\\nimport bokeh\\nimport plotly as py\\nimport pydot\\nimport matplotlib as mpl\\nimport os\\nimport plotly.express as px\\nimport numpy as np\\nimport altair as alt\\nimport plotly.graph_objs as go'); }\n",
              "    "
            ],
            "text/plain": [
              "<IPython.core.display.Javascript object>"
            ]
          },
          "metadata": {
            "tags": []
          }
        },
        {
          "output_type": "display_data",
          "data": {
            "application/javascript": [
              "\n",
              "        if (window._pyforest_update_imports_cell) { window._pyforest_update_imports_cell('import pandas as pd\\nimport bokeh\\nimport plotly as py\\nimport pydot\\nimport matplotlib as mpl\\nimport os\\nimport plotly.express as px\\nimport numpy as np\\nimport altair as alt\\nimport plotly.graph_objs as go'); }\n",
              "    "
            ],
            "text/plain": [
              "<IPython.core.display.Javascript object>"
            ]
          },
          "metadata": {
            "tags": []
          }
        },
        {
          "output_type": "display_data",
          "data": {
            "application/javascript": [
              "\n",
              "        if (window._pyforest_update_imports_cell) { window._pyforest_update_imports_cell('import pandas as pd\\nimport bokeh\\nimport plotly as py\\nimport pydot\\nimport matplotlib as mpl\\nimport os\\nimport plotly.express as px\\nimport numpy as np\\nimport altair as alt\\nimport plotly.graph_objs as go'); }\n",
              "    "
            ],
            "text/plain": [
              "<IPython.core.display.Javascript object>"
            ]
          },
          "metadata": {
            "tags": []
          }
        },
        {
          "output_type": "display_data",
          "data": {
            "application/javascript": [
              "\n",
              "        if (window._pyforest_update_imports_cell) { window._pyforest_update_imports_cell('import pandas as pd\\nimport bokeh\\nimport plotly as py\\nimport pydot\\nimport matplotlib as mpl\\nimport os\\nimport plotly.express as px\\nimport numpy as np\\nimport altair as alt\\nimport plotly.graph_objs as go'); }\n",
              "    "
            ],
            "text/plain": [
              "<IPython.core.display.Javascript object>"
            ]
          },
          "metadata": {
            "tags": []
          }
        },
        {
          "output_type": "execute_result",
          "data": {
            "text/html": [
              "<div>\n",
              "<style scoped>\n",
              "    .dataframe tbody tr th:only-of-type {\n",
              "        vertical-align: middle;\n",
              "    }\n",
              "\n",
              "    .dataframe tbody tr th {\n",
              "        vertical-align: top;\n",
              "    }\n",
              "\n",
              "    .dataframe thead th {\n",
              "        text-align: right;\n",
              "    }\n",
              "</style>\n",
              "<table border=\"1\" class=\"dataframe\">\n",
              "  <thead>\n",
              "    <tr style=\"text-align: right;\">\n",
              "      <th></th>\n",
              "      <th>open_predict</th>\n",
              "      <th>day_of_week</th>\n",
              "      <th>diff</th>\n",
              "      <th>direction</th>\n",
              "    </tr>\n",
              "    <tr>\n",
              "      <th>Date</th>\n",
              "      <th></th>\n",
              "      <th></th>\n",
              "      <th></th>\n",
              "      <th></th>\n",
              "    </tr>\n",
              "  </thead>\n",
              "  <tbody>\n",
              "    <tr>\n",
              "      <th>2020-05-22</th>\n",
              "      <td>1.71</td>\n",
              "      <td>Friday</td>\n",
              "      <td>NaN</td>\n",
              "      <td>Open_down</td>\n",
              "    </tr>\n",
              "    <tr>\n",
              "      <th>2020-05-25</th>\n",
              "      <td>1.72</td>\n",
              "      <td>Monday</td>\n",
              "      <td>0.01</td>\n",
              "      <td>Open_up</td>\n",
              "    </tr>\n",
              "    <tr>\n",
              "      <th>2020-05-26</th>\n",
              "      <td>1.68</td>\n",
              "      <td>Tuesday</td>\n",
              "      <td>-0.04</td>\n",
              "      <td>Open_down</td>\n",
              "    </tr>\n",
              "    <tr>\n",
              "      <th>2020-05-27</th>\n",
              "      <td>1.66</td>\n",
              "      <td>Wednesday</td>\n",
              "      <td>-0.02</td>\n",
              "      <td>Open_down</td>\n",
              "    </tr>\n",
              "    <tr>\n",
              "      <th>2020-05-28</th>\n",
              "      <td>1.73</td>\n",
              "      <td>Thursday</td>\n",
              "      <td>0.07</td>\n",
              "      <td>Open_up</td>\n",
              "    </tr>\n",
              "  </tbody>\n",
              "</table>\n",
              "</div>"
            ],
            "text/plain": [
              "            open_predict day_of_week  diff  direction\n",
              "Date                                                 \n",
              "2020-05-22          1.71      Friday   NaN  Open_down\n",
              "2020-05-25          1.72      Monday  0.01    Open_up\n",
              "2020-05-26          1.68     Tuesday -0.04  Open_down\n",
              "2020-05-27          1.66   Wednesday -0.02  Open_down\n",
              "2020-05-28          1.73    Thursday  0.07    Open_up"
            ]
          },
          "metadata": {
            "tags": []
          },
          "execution_count": 32
        }
      ]
    },
    {
      "cell_type": "code",
      "metadata": {
        "id": "FiCCdAH5E3PU",
        "colab_type": "code",
        "outputId": "3d18b18b-5ca1-4589-da1a-21eca5f7fc3a",
        "colab": {
          "base_uri": "https://localhost:8080/",
          "height": 195
        }
      },
      "source": [
        "op = y_pred.copy()\n",
        "op = pd.DataFrame(op)\n",
        "op = op.tail()\n",
        "D = data.tail()\n",
        "op.index = D.index\n",
        "op.rename(columns = {0: 'predicted'}, inplace=True)\n",
        "op = pd.concat([round(op['predicted'], 3), data['Open'].tail()], axis=1)\n",
        "op = op.sort_values(by='Date', ascending=False)\n",
        "op['accuracy'] = round(op.apply(lambda row: row.predicted / \n",
        "                                            row.Open *100, axis = 1),2)\n",
        "op['accuracy'] = pd.Series([\"{0:.2f}%\".format(val) for val in op['accuracy']], \n",
        "                                     index = op.index)\n",
        "op = op.assign(day_of_week = lambda x: x.index.day_name())\n",
        "op = op.reset_index()\n",
        "op"
      ],
      "execution_count": 0,
      "outputs": [
        {
          "output_type": "display_data",
          "data": {
            "application/javascript": [
              "\n",
              "        if (window._pyforest_update_imports_cell) { window._pyforest_update_imports_cell('import pandas as pd\\nimport bokeh\\nimport plotly as py\\nimport pydot\\nimport os\\nimport plotly.express as px\\nimport numpy as np\\nimport altair as alt'); }\n",
              "    "
            ],
            "text/plain": [
              "<IPython.core.display.Javascript object>"
            ]
          },
          "metadata": {
            "tags": []
          }
        },
        {
          "output_type": "display_data",
          "data": {
            "application/javascript": [
              "\n",
              "        if (window._pyforest_update_imports_cell) { window._pyforest_update_imports_cell('import pandas as pd\\nimport bokeh\\nimport plotly as py\\nimport pydot\\nimport os\\nimport plotly.express as px\\nimport numpy as np\\nimport altair as alt'); }\n",
              "    "
            ],
            "text/plain": [
              "<IPython.core.display.Javascript object>"
            ]
          },
          "metadata": {
            "tags": []
          }
        },
        {
          "output_type": "display_data",
          "data": {
            "application/javascript": [
              "\n",
              "        if (window._pyforest_update_imports_cell) { window._pyforest_update_imports_cell('import pandas as pd\\nimport bokeh\\nimport plotly as py\\nimport pydot\\nimport os\\nimport plotly.express as px\\nimport numpy as np\\nimport altair as alt'); }\n",
              "    "
            ],
            "text/plain": [
              "<IPython.core.display.Javascript object>"
            ]
          },
          "metadata": {
            "tags": []
          }
        },
        {
          "output_type": "execute_result",
          "data": {
            "text/html": [
              "<div>\n",
              "<style scoped>\n",
              "    .dataframe tbody tr th:only-of-type {\n",
              "        vertical-align: middle;\n",
              "    }\n",
              "\n",
              "    .dataframe tbody tr th {\n",
              "        vertical-align: top;\n",
              "    }\n",
              "\n",
              "    .dataframe thead th {\n",
              "        text-align: right;\n",
              "    }\n",
              "</style>\n",
              "<table border=\"1\" class=\"dataframe\">\n",
              "  <thead>\n",
              "    <tr style=\"text-align: right;\">\n",
              "      <th></th>\n",
              "      <th>Date</th>\n",
              "      <th>predicted</th>\n",
              "      <th>Open</th>\n",
              "      <th>accuracy</th>\n",
              "      <th>day_of_week</th>\n",
              "    </tr>\n",
              "  </thead>\n",
              "  <tbody>\n",
              "    <tr>\n",
              "      <th>0</th>\n",
              "      <td>2020-05-21</td>\n",
              "      <td>1.718</td>\n",
              "      <td>1.778</td>\n",
              "      <td>96.63%</td>\n",
              "      <td>Thursday</td>\n",
              "    </tr>\n",
              "    <tr>\n",
              "      <th>1</th>\n",
              "      <td>2020-05-20</td>\n",
              "      <td>1.768</td>\n",
              "      <td>1.804</td>\n",
              "      <td>98.00%</td>\n",
              "      <td>Wednesday</td>\n",
              "    </tr>\n",
              "    <tr>\n",
              "      <th>2</th>\n",
              "      <td>2020-05-19</td>\n",
              "      <td>1.739</td>\n",
              "      <td>1.769</td>\n",
              "      <td>98.30%</td>\n",
              "      <td>Tuesday</td>\n",
              "    </tr>\n",
              "    <tr>\n",
              "      <th>3</th>\n",
              "      <td>2020-05-18</td>\n",
              "      <td>1.674</td>\n",
              "      <td>1.725</td>\n",
              "      <td>97.04%</td>\n",
              "      <td>Monday</td>\n",
              "    </tr>\n",
              "    <tr>\n",
              "      <th>4</th>\n",
              "      <td>2020-05-15</td>\n",
              "      <td>1.693</td>\n",
              "      <td>1.675</td>\n",
              "      <td>101.07%</td>\n",
              "      <td>Friday</td>\n",
              "    </tr>\n",
              "  </tbody>\n",
              "</table>\n",
              "</div>"
            ],
            "text/plain": [
              "        Date  predicted   Open accuracy day_of_week\n",
              "0 2020-05-21      1.718  1.778   96.63%    Thursday\n",
              "1 2020-05-20      1.768  1.804   98.00%   Wednesday\n",
              "2 2020-05-19      1.739  1.769   98.30%     Tuesday\n",
              "3 2020-05-18      1.674  1.725   97.04%      Monday\n",
              "4 2020-05-15      1.693  1.675  101.07%      Friday"
            ]
          },
          "metadata": {
            "tags": []
          },
          "execution_count": 22
        }
      ]
    },
    {
      "cell_type": "code",
      "metadata": {
        "id": "QcYgOZITbrES",
        "colab_type": "code",
        "colab": {}
      },
      "source": [
        "#op = forecast.copy()\n",
        "#op = op.head()\n",
        "#op.index = data.tail().index\n",
        "#op.rename(columns = {0: 'predicted'}, inplace=True)\n",
        "#op = pd.concat([round(op['predicted'], 3), data['Open'].tail()], axis=1)\n",
        "#op = op.sort_values(by='Date', ascending=False)\n",
        "#op['accuracy'] = round(op.apply(lambda row: row.predicted / \n",
        " #                                           row.Open *100, axis = 1),2)\n",
        "#op['accuracy'] = pd.Series([\"{0:.2f}%\".format(val) for val in op['accuracy']], \n",
        "                                     index = op.index)\n",
        "#op = op.assign(day_of_week = lambda x: x.index.day_name())\n",
        "#op = op.reset_index()\n",
        "#op"
      ],
      "execution_count": 0,
      "outputs": []
    },
    {
      "cell_type": "code",
      "metadata": {
        "id": "xiy8T6btXoAb",
        "colab_type": "code",
        "colab": {}
      },
      "source": [
        "import plotly.graph_objects as go"
      ],
      "execution_count": 0,
      "outputs": []
    },
    {
      "cell_type": "code",
      "metadata": {
        "id": "xbtwWl3jXygU",
        "colab_type": "code",
        "outputId": "4d4f1836-1197-4007-a8aa-861eef7332f8",
        "colab": {
          "base_uri": "https://localhost:8080/",
          "height": 417
        }
      },
      "source": [
        "fig = go.Figure()\n",
        "\n",
        "fig.add_trace(go.Scatter(\n",
        "    x=op['Date'],\n",
        "    y=op['Open'],\n",
        "    name=\"Actual open price\"       # this sets its legend entry\n",
        "))\n",
        "\n",
        "\n",
        "fig.add_trace(go.Scatter(\n",
        "    x=op['Date'],\n",
        "    y=op['predicted'],\n",
        "    name=\"Predicted open price\"\n",
        "))\n",
        "\n",
        "fig.update_layout(\n",
        "    title=\"Actual vs Predicted Open Price\",\n",
        "    #xaxis_title=\"Date\",\n",
        "    yaxis_title=\"Price ($/Mbtu)\",\n",
        "    font=dict(\n",
        "        family=\"Courier New, monospace\",\n",
        "        size=18,\n",
        "        color=\"#7f7f7f\"\n",
        "    )\n",
        ")\n",
        "fig.update_layout(\n",
        "    autosize=False,\n",
        "    width=800,\n",
        "    height=400,)\n",
        "fig.update_layout(legend_orientation=\"h\")\n",
        "fig.show()"
      ],
      "execution_count": 0,
      "outputs": [
        {
          "output_type": "display_data",
          "data": {
            "application/javascript": [
              "\n",
              "        if (window._pyforest_update_imports_cell) { window._pyforest_update_imports_cell('import pandas as pd\\nimport bokeh\\nimport plotly as py\\nimport pydot\\nimport os\\nimport plotly.express as px\\nimport numpy as np\\nimport altair as alt\\nimport plotly.graph_objs as go'); }\n",
              "    "
            ],
            "text/plain": [
              "<IPython.core.display.Javascript object>"
            ]
          },
          "metadata": {
            "tags": []
          }
        },
        {
          "output_type": "display_data",
          "data": {
            "application/javascript": [
              "\n",
              "        if (window._pyforest_update_imports_cell) { window._pyforest_update_imports_cell('import pandas as pd\\nimport bokeh\\nimport plotly as py\\nimport pydot\\nimport os\\nimport plotly.express as px\\nimport numpy as np\\nimport altair as alt\\nimport plotly.graph_objs as go'); }\n",
              "    "
            ],
            "text/plain": [
              "<IPython.core.display.Javascript object>"
            ]
          },
          "metadata": {
            "tags": []
          }
        },
        {
          "output_type": "display_data",
          "data": {
            "application/javascript": [
              "\n",
              "        if (window._pyforest_update_imports_cell) { window._pyforest_update_imports_cell('import pandas as pd\\nimport bokeh\\nimport plotly as py\\nimport pydot\\nimport os\\nimport plotly.express as px\\nimport numpy as np\\nimport altair as alt\\nimport plotly.graph_objs as go'); }\n",
              "    "
            ],
            "text/plain": [
              "<IPython.core.display.Javascript object>"
            ]
          },
          "metadata": {
            "tags": []
          }
        },
        {
          "output_type": "display_data",
          "data": {
            "text/html": [
              "<html>\n",
              "<head><meta charset=\"utf-8\" /></head>\n",
              "<body>\n",
              "    <div>\n",
              "            <script src=\"https://cdnjs.cloudflare.com/ajax/libs/mathjax/2.7.5/MathJax.js?config=TeX-AMS-MML_SVG\"></script><script type=\"text/javascript\">if (window.MathJax) {MathJax.Hub.Config({SVG: {font: \"STIX-Web\"}});}</script>\n",
              "                <script type=\"text/javascript\">window.PlotlyConfig = {MathJaxConfig: 'local'};</script>\n",
              "        <script src=\"https://cdn.plot.ly/plotly-latest.min.js\"></script>    \n",
              "            <div id=\"8eade52f-b8ee-4ef4-bbe0-c5679e65e6df\" class=\"plotly-graph-div\" style=\"height:400px; width:800px;\"></div>\n",
              "            <script type=\"text/javascript\">\n",
              "                \n",
              "                    window.PLOTLYENV=window.PLOTLYENV || {};\n",
              "                    \n",
              "                if (document.getElementById(\"8eade52f-b8ee-4ef4-bbe0-c5679e65e6df\")) {\n",
              "                    Plotly.newPlot(\n",
              "                        '8eade52f-b8ee-4ef4-bbe0-c5679e65e6df',\n",
              "                        [{\"name\": \"Actual open price\", \"type\": \"scatter\", \"x\": [\"2020-05-21T00:00:00\", \"2020-05-20T00:00:00\", \"2020-05-19T00:00:00\", \"2020-05-18T00:00:00\", \"2020-05-15T00:00:00\"], \"y\": [1.778, 1.804, 1.769, 1.725, 1.675]}, {\"name\": \"Predicted open price\", \"type\": \"scatter\", \"x\": [\"2020-05-21T00:00:00\", \"2020-05-20T00:00:00\", \"2020-05-19T00:00:00\", \"2020-05-18T00:00:00\", \"2020-05-15T00:00:00\"], \"y\": [1.718, 1.768, 1.739, 1.674, 1.693]}],\n",
              "                        {\"autosize\": false, \"font\": {\"color\": \"#7f7f7f\", \"family\": \"Courier New, monospace\", \"size\": 18}, \"height\": 400, \"legend\": {\"orientation\": \"h\"}, \"template\": {\"data\": {\"bar\": [{\"error_x\": {\"color\": \"#2a3f5f\"}, \"error_y\": {\"color\": \"#2a3f5f\"}, \"marker\": {\"line\": {\"color\": \"#E5ECF6\", \"width\": 0.5}}, \"type\": \"bar\"}], \"barpolar\": [{\"marker\": {\"line\": {\"color\": \"#E5ECF6\", \"width\": 0.5}}, \"type\": \"barpolar\"}], \"carpet\": [{\"aaxis\": {\"endlinecolor\": \"#2a3f5f\", \"gridcolor\": \"white\", \"linecolor\": \"white\", \"minorgridcolor\": \"white\", \"startlinecolor\": \"#2a3f5f\"}, \"baxis\": {\"endlinecolor\": \"#2a3f5f\", \"gridcolor\": \"white\", \"linecolor\": \"white\", \"minorgridcolor\": \"white\", \"startlinecolor\": \"#2a3f5f\"}, \"type\": \"carpet\"}], \"choropleth\": [{\"colorbar\": {\"outlinewidth\": 0, \"ticks\": \"\"}, \"type\": \"choropleth\"}], \"contour\": [{\"colorbar\": {\"outlinewidth\": 0, \"ticks\": \"\"}, \"colorscale\": [[0.0, \"#0d0887\"], [0.1111111111111111, \"#46039f\"], [0.2222222222222222, \"#7201a8\"], [0.3333333333333333, \"#9c179e\"], [0.4444444444444444, \"#bd3786\"], [0.5555555555555556, \"#d8576b\"], [0.6666666666666666, \"#ed7953\"], [0.7777777777777778, \"#fb9f3a\"], [0.8888888888888888, \"#fdca26\"], [1.0, \"#f0f921\"]], \"type\": \"contour\"}], \"contourcarpet\": [{\"colorbar\": {\"outlinewidth\": 0, \"ticks\": \"\"}, \"type\": \"contourcarpet\"}], \"heatmap\": [{\"colorbar\": {\"outlinewidth\": 0, \"ticks\": \"\"}, \"colorscale\": [[0.0, \"#0d0887\"], [0.1111111111111111, \"#46039f\"], [0.2222222222222222, \"#7201a8\"], [0.3333333333333333, \"#9c179e\"], [0.4444444444444444, \"#bd3786\"], [0.5555555555555556, \"#d8576b\"], [0.6666666666666666, \"#ed7953\"], [0.7777777777777778, \"#fb9f3a\"], [0.8888888888888888, \"#fdca26\"], [1.0, \"#f0f921\"]], \"type\": \"heatmap\"}], \"heatmapgl\": [{\"colorbar\": {\"outlinewidth\": 0, \"ticks\": \"\"}, \"colorscale\": [[0.0, \"#0d0887\"], [0.1111111111111111, \"#46039f\"], [0.2222222222222222, \"#7201a8\"], [0.3333333333333333, \"#9c179e\"], [0.4444444444444444, \"#bd3786\"], [0.5555555555555556, \"#d8576b\"], [0.6666666666666666, \"#ed7953\"], [0.7777777777777778, \"#fb9f3a\"], [0.8888888888888888, \"#fdca26\"], [1.0, \"#f0f921\"]], \"type\": \"heatmapgl\"}], \"histogram\": [{\"marker\": {\"colorbar\": {\"outlinewidth\": 0, \"ticks\": \"\"}}, \"type\": \"histogram\"}], \"histogram2d\": [{\"colorbar\": {\"outlinewidth\": 0, \"ticks\": \"\"}, \"colorscale\": [[0.0, \"#0d0887\"], [0.1111111111111111, \"#46039f\"], [0.2222222222222222, \"#7201a8\"], [0.3333333333333333, \"#9c179e\"], [0.4444444444444444, \"#bd3786\"], [0.5555555555555556, \"#d8576b\"], [0.6666666666666666, \"#ed7953\"], [0.7777777777777778, \"#fb9f3a\"], [0.8888888888888888, \"#fdca26\"], [1.0, \"#f0f921\"]], \"type\": \"histogram2d\"}], \"histogram2dcontour\": [{\"colorbar\": {\"outlinewidth\": 0, \"ticks\": \"\"}, \"colorscale\": [[0.0, \"#0d0887\"], [0.1111111111111111, \"#46039f\"], [0.2222222222222222, \"#7201a8\"], [0.3333333333333333, \"#9c179e\"], [0.4444444444444444, \"#bd3786\"], [0.5555555555555556, \"#d8576b\"], [0.6666666666666666, \"#ed7953\"], [0.7777777777777778, \"#fb9f3a\"], [0.8888888888888888, \"#fdca26\"], [1.0, \"#f0f921\"]], \"type\": \"histogram2dcontour\"}], \"mesh3d\": [{\"colorbar\": {\"outlinewidth\": 0, \"ticks\": \"\"}, \"type\": \"mesh3d\"}], \"parcoords\": [{\"line\": {\"colorbar\": {\"outlinewidth\": 0, \"ticks\": \"\"}}, \"type\": \"parcoords\"}], \"pie\": [{\"automargin\": true, \"type\": \"pie\"}], \"scatter\": [{\"marker\": {\"colorbar\": {\"outlinewidth\": 0, \"ticks\": \"\"}}, \"type\": \"scatter\"}], \"scatter3d\": [{\"line\": {\"colorbar\": {\"outlinewidth\": 0, \"ticks\": \"\"}}, \"marker\": {\"colorbar\": {\"outlinewidth\": 0, \"ticks\": \"\"}}, \"type\": \"scatter3d\"}], \"scattercarpet\": [{\"marker\": {\"colorbar\": {\"outlinewidth\": 0, \"ticks\": \"\"}}, \"type\": \"scattercarpet\"}], \"scattergeo\": [{\"marker\": {\"colorbar\": {\"outlinewidth\": 0, \"ticks\": \"\"}}, \"type\": \"scattergeo\"}], \"scattergl\": [{\"marker\": {\"colorbar\": {\"outlinewidth\": 0, \"ticks\": \"\"}}, \"type\": \"scattergl\"}], \"scattermapbox\": [{\"marker\": {\"colorbar\": {\"outlinewidth\": 0, \"ticks\": \"\"}}, \"type\": \"scattermapbox\"}], \"scatterpolar\": [{\"marker\": {\"colorbar\": {\"outlinewidth\": 0, \"ticks\": \"\"}}, \"type\": \"scatterpolar\"}], \"scatterpolargl\": [{\"marker\": {\"colorbar\": {\"outlinewidth\": 0, \"ticks\": \"\"}}, \"type\": \"scatterpolargl\"}], \"scatterternary\": [{\"marker\": {\"colorbar\": {\"outlinewidth\": 0, \"ticks\": \"\"}}, \"type\": \"scatterternary\"}], \"surface\": [{\"colorbar\": {\"outlinewidth\": 0, \"ticks\": \"\"}, \"colorscale\": [[0.0, \"#0d0887\"], [0.1111111111111111, \"#46039f\"], [0.2222222222222222, \"#7201a8\"], [0.3333333333333333, \"#9c179e\"], [0.4444444444444444, \"#bd3786\"], [0.5555555555555556, \"#d8576b\"], [0.6666666666666666, \"#ed7953\"], [0.7777777777777778, \"#fb9f3a\"], [0.8888888888888888, \"#fdca26\"], [1.0, \"#f0f921\"]], \"type\": \"surface\"}], \"table\": [{\"cells\": {\"fill\": {\"color\": \"#EBF0F8\"}, \"line\": {\"color\": \"white\"}}, \"header\": {\"fill\": {\"color\": \"#C8D4E3\"}, \"line\": {\"color\": \"white\"}}, \"type\": \"table\"}]}, \"layout\": {\"annotationdefaults\": {\"arrowcolor\": \"#2a3f5f\", \"arrowhead\": 0, \"arrowwidth\": 1}, \"coloraxis\": {\"colorbar\": {\"outlinewidth\": 0, \"ticks\": \"\"}}, \"colorscale\": {\"diverging\": [[0, \"#8e0152\"], [0.1, \"#c51b7d\"], [0.2, \"#de77ae\"], [0.3, \"#f1b6da\"], [0.4, \"#fde0ef\"], [0.5, \"#f7f7f7\"], [0.6, \"#e6f5d0\"], [0.7, \"#b8e186\"], [0.8, \"#7fbc41\"], [0.9, \"#4d9221\"], [1, \"#276419\"]], \"sequential\": [[0.0, \"#0d0887\"], [0.1111111111111111, \"#46039f\"], [0.2222222222222222, \"#7201a8\"], [0.3333333333333333, \"#9c179e\"], [0.4444444444444444, \"#bd3786\"], [0.5555555555555556, \"#d8576b\"], [0.6666666666666666, \"#ed7953\"], [0.7777777777777778, \"#fb9f3a\"], [0.8888888888888888, \"#fdca26\"], [1.0, \"#f0f921\"]], \"sequentialminus\": [[0.0, \"#0d0887\"], [0.1111111111111111, \"#46039f\"], [0.2222222222222222, \"#7201a8\"], [0.3333333333333333, \"#9c179e\"], [0.4444444444444444, \"#bd3786\"], [0.5555555555555556, \"#d8576b\"], [0.6666666666666666, \"#ed7953\"], [0.7777777777777778, \"#fb9f3a\"], [0.8888888888888888, \"#fdca26\"], [1.0, \"#f0f921\"]]}, \"colorway\": [\"#636efa\", \"#EF553B\", \"#00cc96\", \"#ab63fa\", \"#FFA15A\", \"#19d3f3\", \"#FF6692\", \"#B6E880\", \"#FF97FF\", \"#FECB52\"], \"font\": {\"color\": \"#2a3f5f\"}, \"geo\": {\"bgcolor\": \"white\", \"lakecolor\": \"white\", \"landcolor\": \"#E5ECF6\", \"showlakes\": true, \"showland\": true, \"subunitcolor\": \"white\"}, \"hoverlabel\": {\"align\": \"left\"}, \"hovermode\": \"closest\", \"mapbox\": {\"style\": \"light\"}, \"paper_bgcolor\": \"white\", \"plot_bgcolor\": \"#E5ECF6\", \"polar\": {\"angularaxis\": {\"gridcolor\": \"white\", \"linecolor\": \"white\", \"ticks\": \"\"}, \"bgcolor\": \"#E5ECF6\", \"radialaxis\": {\"gridcolor\": \"white\", \"linecolor\": \"white\", \"ticks\": \"\"}}, \"scene\": {\"xaxis\": {\"backgroundcolor\": \"#E5ECF6\", \"gridcolor\": \"white\", \"gridwidth\": 2, \"linecolor\": \"white\", \"showbackground\": true, \"ticks\": \"\", \"zerolinecolor\": \"white\"}, \"yaxis\": {\"backgroundcolor\": \"#E5ECF6\", \"gridcolor\": \"white\", \"gridwidth\": 2, \"linecolor\": \"white\", \"showbackground\": true, \"ticks\": \"\", \"zerolinecolor\": \"white\"}, \"zaxis\": {\"backgroundcolor\": \"#E5ECF6\", \"gridcolor\": \"white\", \"gridwidth\": 2, \"linecolor\": \"white\", \"showbackground\": true, \"ticks\": \"\", \"zerolinecolor\": \"white\"}}, \"shapedefaults\": {\"line\": {\"color\": \"#2a3f5f\"}}, \"ternary\": {\"aaxis\": {\"gridcolor\": \"white\", \"linecolor\": \"white\", \"ticks\": \"\"}, \"baxis\": {\"gridcolor\": \"white\", \"linecolor\": \"white\", \"ticks\": \"\"}, \"bgcolor\": \"#E5ECF6\", \"caxis\": {\"gridcolor\": \"white\", \"linecolor\": \"white\", \"ticks\": \"\"}}, \"title\": {\"x\": 0.05}, \"xaxis\": {\"automargin\": true, \"gridcolor\": \"white\", \"linecolor\": \"white\", \"ticks\": \"\", \"title\": {\"standoff\": 15}, \"zerolinecolor\": \"white\", \"zerolinewidth\": 2}, \"yaxis\": {\"automargin\": true, \"gridcolor\": \"white\", \"linecolor\": \"white\", \"ticks\": \"\", \"title\": {\"standoff\": 15}, \"zerolinecolor\": \"white\", \"zerolinewidth\": 2}}}, \"title\": {\"text\": \"Actual vs Predicted Open Price\"}, \"width\": 800, \"yaxis\": {\"title\": {\"text\": \"Price ($/Mbtu)\"}}},\n",
              "                        {\"responsive\": true}\n",
              "                    ).then(function(){\n",
              "                            \n",
              "var gd = document.getElementById('8eade52f-b8ee-4ef4-bbe0-c5679e65e6df');\n",
              "var x = new MutationObserver(function (mutations, observer) {{\n",
              "        var display = window.getComputedStyle(gd).display;\n",
              "        if (!display || display === 'none') {{\n",
              "            console.log([gd, 'removed!']);\n",
              "            Plotly.purge(gd);\n",
              "            observer.disconnect();\n",
              "        }}\n",
              "}});\n",
              "\n",
              "// Listen for the removal of the full notebook cells\n",
              "var notebookContainer = gd.closest('#notebook-container');\n",
              "if (notebookContainer) {{\n",
              "    x.observe(notebookContainer, {childList: true});\n",
              "}}\n",
              "\n",
              "// Listen for the clearing of the current output cell\n",
              "var outputEl = gd.closest('.output');\n",
              "if (outputEl) {{\n",
              "    x.observe(outputEl, {childList: true});\n",
              "}}\n",
              "\n",
              "                        })\n",
              "                };\n",
              "                \n",
              "            </script>\n",
              "        </div>\n",
              "</body>\n",
              "</html>"
            ]
          },
          "metadata": {
            "tags": []
          }
        }
      ]
    },
    {
      "cell_type": "code",
      "metadata": {
        "id": "KYytZP8DXybD",
        "colab_type": "code",
        "colab": {}
      },
      "source": [
        ""
      ],
      "execution_count": 0,
      "outputs": []
    },
    {
      "cell_type": "markdown",
      "metadata": {
        "id": "Q4lW_fIL70lv",
        "colab_type": "text"
      },
      "source": [
        "## Close"
      ]
    },
    {
      "cell_type": "code",
      "metadata": {
        "id": "8kzvUpsBCPHA",
        "colab_type": "code",
        "colab": {}
      },
      "source": [
        "# Merging relevant features\n",
        "merge1 = data.join(coal, how='left').ffill().bfill()\n",
        "merge2 = merge1.join(vl_import, how='left').ffill().bfill()\n",
        "merge3 = merge2.join(price_im, how='left').ffill().bfill()\n",
        "merge4 = merge3.join(pr_export, how='left').ffill().bfill()\n",
        "merge5 = merge4.join(drilling, how='left').ffill().bfill()\n",
        "\n",
        "df2 = merge5.copy()\n",
        "df2.drop(['Powder River Basin 8,800 Btu, 0.8 SO2',\n",
        "              'Uinta Basin 11,700 Btu, 0.8 SO2'], axis=1, inplace=True)\n",
        "\n",
        "df2['pct_chng'] = df2['Close'].pct_change()\n",
        "df2['ROC'] = ((df2['Close'] - df2['Close'].shift(5)) / (df2['Close'].shift(5)))*100\n",
        "df2['cum_ret'] = (df2['pct_chng'] + 1).cumprod()\n",
        "df2['sma2'] = df2['Close'].rolling(window=2).mean()\n",
        "df2['sma5'] = df2['Close'].rolling(window=5).mean()\n",
        "df2['sma10'] = df2['Close'].rolling(window=10).mean()\n",
        "df2['sma20'] = df2['Close'].rolling(window=20).mean()\n",
        "\n",
        "# Ease of Movement \n",
        "dm = ((df2['High'] + df2['Low'])/2) - ((df2['High'].shift(1) + df2['Low'].shift(1))/2)\n",
        "br = (df2['Volume'] / 100000000) / ((df2['High'] - df2['Low']))\n",
        "#df2['EVM'] = dm / br \n",
        "\n",
        "rsi_period = 14 \n",
        "chg = df2['Close'].diff(1)\n",
        "gain = chg.mask(chg<0,0)\n",
        "gain = gain\n",
        "loss = chg.mask(chg>0,0)\n",
        "loss = loss\n",
        "avg_gain = gain.ewm(com = rsi_period - 1, min_periods = rsi_period).mean()\n",
        "avg_loss = loss.ewm(com = rsi_period - 1, min_periods = rsi_period).mean()\n",
        "rs = abs(avg_gain/avg_loss)\n",
        "#df2['rsi'] = 100-(100/(1+ rs))\n",
        "\n",
        "std = df2['Close'].rolling(window=20).std() \n",
        "df2['Upper'] = df2['sma20'] + (std * 2)\n",
        "df2['Lower'] = df2['sma20'] - (std * 2)\n",
        "\n",
        "# we also add three new columns ‘ho’ ‘lo’ and ‘gain’\n",
        "df2['h_o'] = df2['High'] - df2['Open'] # distance between Highest and Opening price\n",
        "df2['l_o'] = df2['Low'] - df2['Open'] # distance between Lowest and Opening price\n",
        "#df2['gain'] = df2['Close'] - df2['Open']\n",
        "\n",
        "\n",
        "# feature engineering\n",
        "df2['day_of_week'] = df2.index.dayofweek\n",
        "df2['day_of_month'] = df2.index.day\n",
        "\n",
        "df2['label'] = df2.Close.shift(-10) \n",
        "df2.dropna(inplace=True)\n",
        "\n",
        "df2 = df2.replace([np.inf, -np.inf], np.nan)\n",
        "df2.dropna(inplace=True)\n",
        "df2.tail()"
      ],
      "execution_count": 0,
      "outputs": []
    },
    {
      "cell_type": "code",
      "metadata": {
        "id": "0l0hCW7HTZ05",
        "colab_type": "code",
        "outputId": "62ee61a0-a3b7-4211-8036-c771fb9f42e6",
        "colab": {
          "base_uri": "https://localhost:8080/",
          "height": 67
        }
      },
      "source": [
        "X = np.array(df2.copy().drop(['label', 'High',\t'Low','Open',\t\n",
        "                           'Volume',\t'Adj Close'], axis=1))\n",
        "y = np.array(df2['label']).copy()  # assigning Y\n",
        "    \n",
        "Xtrain, Xtest, ytrain, ytest = train_test_split(X, y, test_size = 0.20, \n",
        "                                                    random_state=42, shuffle=False)\n",
        "tscv = TimeSeriesSplit(max_train_size=None, n_splits=10)\n",
        "#TimeSeriesSplit(max_train_size=0.80, n_splits=10)\n",
        "for train_samples, test_samples in tscv.split(Xtrain, ytrain):\n",
        "  #print(\"TRAIN:\", train_samples, \"TEST:\", test_samples)\n",
        "  Xtrain, Xtest = X[train_samples], X[test_samples]\n",
        "  ytrain, ytest = y[train_samples], y[test_samples]\n",
        "\n",
        "model = LinearRegression(); #initializing linear regression model\n",
        "#XGBRegressor(objective='reg:squarederror' )\n",
        "#LinearRegression(); #initializing linear regression model\n",
        "\n",
        "model.fit(Xtrain, ytrain); #training the linear regression model\n",
        "cl_score=model.score(Xtest,ytest);#testing the linear regression model\n",
        "\n",
        "ypred =model.predict(Xtest)\n",
        "c_fore= ypred[-10:]; #set that will contain the forecasted data\n",
        "\n",
        "cl_score = round(cl_score*100,2).astype(str) + '%'\n",
        "print(cl_score); print(c_fore);"
      ],
      "execution_count": 0,
      "outputs": [
        {
          "output_type": "display_data",
          "data": {
            "application/javascript": [
              "\n",
              "        if (window._pyforest_update_imports_cell) { window._pyforest_update_imports_cell('import pandas as pd\\nimport bokeh\\nimport plotly as py\\nimport pydot\\nimport matplotlib as mpl\\nimport os\\nimport plotly.express as px\\nimport numpy as np\\nimport altair as alt\\nimport plotly.graph_objs as go'); }\n",
              "    "
            ],
            "text/plain": [
              "<IPython.core.display.Javascript object>"
            ]
          },
          "metadata": {
            "tags": []
          }
        },
        {
          "output_type": "display_data",
          "data": {
            "application/javascript": [
              "\n",
              "        if (window._pyforest_update_imports_cell) { window._pyforest_update_imports_cell('import pandas as pd\\nimport bokeh\\nimport plotly as py\\nimport pydot\\nimport matplotlib as mpl\\nimport os\\nimport plotly.express as px\\nimport numpy as np\\nimport altair as alt\\nimport plotly.graph_objs as go'); }\n",
              "    "
            ],
            "text/plain": [
              "<IPython.core.display.Javascript object>"
            ]
          },
          "metadata": {
            "tags": []
          }
        },
        {
          "output_type": "stream",
          "text": [
            "50.93%\n",
            "[1.7080913  1.64058252 1.65954949 1.70890054 1.67496913 1.64623111\n",
            " 1.67095093 1.74082534 1.70301213 1.6561605 ]\n"
          ],
          "name": "stdout"
        }
      ]
    },
    {
      "cell_type": "code",
      "metadata": {
        "id": "NgMK1OfDHbaR",
        "colab_type": "code",
        "outputId": "6ca375f5-36f5-454c-af6e-307a7352b289",
        "colab": {
          "base_uri": "https://localhost:8080/",
          "height": 34
        }
      },
      "source": [
        "rmse2 = np.sqrt(metrics.mean_squared_error(ytest, model.predict(Xtest)))\n",
        "rmse2"
      ],
      "execution_count": 0,
      "outputs": [
        {
          "output_type": "display_data",
          "data": {
            "application/javascript": [
              "\n",
              "        if (window._pyforest_update_imports_cell) { window._pyforest_update_imports_cell('import pydot\\nimport plotly.express as px\\nimport numpy as np\\nimport plotly as py\\nimport pandas as pd'); }\n",
              "    "
            ],
            "text/plain": [
              "<IPython.core.display.Javascript object>"
            ]
          },
          "metadata": {
            "tags": []
          }
        },
        {
          "output_type": "execute_result",
          "data": {
            "text/plain": [
              "0.35984035749004384"
            ]
          },
          "metadata": {
            "tags": []
          },
          "execution_count": 38
        }
      ]
    },
    {
      "cell_type": "code",
      "metadata": {
        "id": "_TyCGWdoLRF7",
        "colab_type": "code",
        "outputId": "c370d868-83aa-494c-8bb4-c848f8e51cb9",
        "colab": {
          "base_uri": "https://localhost:8080/",
          "height": 425
        }
      },
      "source": [
        "# Feature importance\n",
        "plt.rcParams['figure.figsize'] = [10,6]\n",
        "plot_importance(model)"
      ],
      "execution_count": 0,
      "outputs": [
        {
          "output_type": "execute_result",
          "data": {
            "text/plain": [
              "<matplotlib.axes._subplots.AxesSubplot at 0x7f5450195128>"
            ]
          },
          "metadata": {
            "tags": []
          },
          "execution_count": 92
        },
        {
          "output_type": "display_data",
          "data": {
            "image/png": "[encoded data removed]",
            "text/plain": [
              "<Figure size 720x432 with 1 Axes>"
            ]
          },
          "metadata": {
            "tags": [],
            "needs_background": "light"
          }
        }
      ]
    },
    {
      "cell_type": "code",
      "metadata": {
        "id": "dVJd6TEsRBAH",
        "colab_type": "code",
        "colab": {}
      },
      "source": [
        "from sklearn.linear_model import LinearRegression"
      ],
      "execution_count": 0,
      "outputs": []
    },
    {
      "cell_type": "code",
      "metadata": {
        "id": "YbT0tOYwGp6v",
        "colab_type": "code",
        "outputId": "4b9efe10-96d6-4855-9256-1da4a23cf67c",
        "colab": {
          "base_uri": "https://localhost:8080/",
          "height": 225
        }
      },
      "source": [
        "c_fore = pd.DataFrame(c_fore);\n",
        "\n",
        "close_forecast = c_fore.copy();\n",
        "close_forecast = close_forecast.head()\n",
        "\n",
        "# assigning names to columns\n",
        "close_forecast.rename(columns = {0: 'close_predict'}, inplace=True)\n",
        "\n",
        "close_forecast.index = d.index\n",
        "close_forecast = close_forecast.assign(day_of_week = lambda x: x.index.day_name())\n",
        "\n",
        "close_forecast['diff'] = close_forecast['close_predict'].diff()\n",
        "\n",
        "close_forecast['direction'] = np.where(close_forecast['diff'] > 0, 1, 0)\n",
        "close_forecast['direction'].replace([0,1],['Close_down','Close_up'],inplace=True)\n",
        "close_forecast = close_forecast.round(decimals=2)\n",
        "close_forecast\n"
      ],
      "execution_count": 0,
      "outputs": [
        {
          "output_type": "display_data",
          "data": {
            "application/javascript": [
              "\n",
              "        if (window._pyforest_update_imports_cell) { window._pyforest_update_imports_cell('import pandas as pd\\nimport bokeh\\nimport sklearn\\nimport plotly as py\\nimport pydot\\nimport matplotlib as mpl\\nimport os\\nimport plotly.express as px\\nimport numpy as np\\nimport altair as alt\\nimport plotly.graph_objs as go'); }\n",
              "    "
            ],
            "text/plain": [
              "<IPython.core.display.Javascript object>"
            ]
          },
          "metadata": {
            "tags": []
          }
        },
        {
          "output_type": "display_data",
          "data": {
            "application/javascript": [
              "\n",
              "        if (window._pyforest_update_imports_cell) { window._pyforest_update_imports_cell('import pandas as pd\\nimport bokeh\\nimport sklearn\\nimport plotly as py\\nimport pydot\\nimport matplotlib as mpl\\nimport os\\nimport plotly.express as px\\nimport numpy as np\\nimport altair as alt\\nimport plotly.graph_objs as go'); }\n",
              "    "
            ],
            "text/plain": [
              "<IPython.core.display.Javascript object>"
            ]
          },
          "metadata": {
            "tags": []
          }
        },
        {
          "output_type": "execute_result",
          "data": {
            "text/html": [
              "<div>\n",
              "<style scoped>\n",
              "    .dataframe tbody tr th:only-of-type {\n",
              "        vertical-align: middle;\n",
              "    }\n",
              "\n",
              "    .dataframe tbody tr th {\n",
              "        vertical-align: top;\n",
              "    }\n",
              "\n",
              "    .dataframe thead th {\n",
              "        text-align: right;\n",
              "    }\n",
              "</style>\n",
              "<table border=\"1\" class=\"dataframe\">\n",
              "  <thead>\n",
              "    <tr style=\"text-align: right;\">\n",
              "      <th></th>\n",
              "      <th>close_predict</th>\n",
              "      <th>day_of_week</th>\n",
              "      <th>diff</th>\n",
              "      <th>direction</th>\n",
              "    </tr>\n",
              "    <tr>\n",
              "      <th>Date</th>\n",
              "      <th></th>\n",
              "      <th></th>\n",
              "      <th></th>\n",
              "      <th></th>\n",
              "    </tr>\n",
              "  </thead>\n",
              "  <tbody>\n",
              "    <tr>\n",
              "      <th>2020-05-22</th>\n",
              "      <td>1.71</td>\n",
              "      <td>Friday</td>\n",
              "      <td>NaN</td>\n",
              "      <td>Close_down</td>\n",
              "    </tr>\n",
              "    <tr>\n",
              "      <th>2020-05-25</th>\n",
              "      <td>1.64</td>\n",
              "      <td>Monday</td>\n",
              "      <td>-0.07</td>\n",
              "      <td>Close_down</td>\n",
              "    </tr>\n",
              "    <tr>\n",
              "      <th>2020-05-26</th>\n",
              "      <td>1.66</td>\n",
              "      <td>Tuesday</td>\n",
              "      <td>0.02</td>\n",
              "      <td>Close_up</td>\n",
              "    </tr>\n",
              "    <tr>\n",
              "      <th>2020-05-27</th>\n",
              "      <td>1.71</td>\n",
              "      <td>Wednesday</td>\n",
              "      <td>0.05</td>\n",
              "      <td>Close_up</td>\n",
              "    </tr>\n",
              "    <tr>\n",
              "      <th>2020-05-28</th>\n",
              "      <td>1.67</td>\n",
              "      <td>Thursday</td>\n",
              "      <td>-0.03</td>\n",
              "      <td>Close_down</td>\n",
              "    </tr>\n",
              "  </tbody>\n",
              "</table>\n",
              "</div>"
            ],
            "text/plain": [
              "            close_predict day_of_week  diff   direction\n",
              "Date                                                   \n",
              "2020-05-22           1.71      Friday   NaN  Close_down\n",
              "2020-05-25           1.64      Monday -0.07  Close_down\n",
              "2020-05-26           1.66     Tuesday  0.02    Close_up\n",
              "2020-05-27           1.71   Wednesday  0.05    Close_up\n",
              "2020-05-28           1.67    Thursday -0.03  Close_down"
            ]
          },
          "metadata": {
            "tags": []
          },
          "execution_count": 36
        }
      ]
    },
    {
      "cell_type": "code",
      "metadata": {
        "id": "Np5skvA9G9y0",
        "colab_type": "code",
        "outputId": "239f83cf-f957-4795-c60b-6aaf9d0dd6a2",
        "colab": {
          "base_uri": "https://localhost:8080/",
          "height": 195
        }
      },
      "source": [
        "cp = ypred.copy()\n",
        "cp = pd.DataFrame(cp)\n",
        "cp = cp.tail()\n",
        "E = data.tail()\n",
        "cp.index = E.index\n",
        "cp.rename(columns = {0: 'predicted'}, inplace=True)\n",
        "cp = pd.concat([round(cp['predicted'], 3), data['Close'].tail()], axis=1)\n",
        "cp = cp.sort_values(by='Date', ascending=False)\n",
        "cp['accuracy'] = round(cp.apply(lambda row: row.predicted / \n",
        "                                            row.Close *100, axis = 1),2)\n",
        "cp['accuracy'] = pd.Series([\"{0:.2f}%\".format(val) for val in cp['accuracy']], \n",
        "                                     index = cp.index)\n",
        "cp = cp.assign(day_of_week = lambda x: x.index.day_name())\n",
        "cp = cp.reset_index()\n",
        "cp"
      ],
      "execution_count": 0,
      "outputs": [
        {
          "output_type": "display_data",
          "data": {
            "application/javascript": [
              "\n",
              "        if (window._pyforest_update_imports_cell) { window._pyforest_update_imports_cell('import pandas as pd\\nimport bokeh\\nimport plotly as py\\nimport pydot\\nimport matplotlib as mpl\\nimport os\\nimport plotly.express as px\\nimport numpy as np\\nimport altair as alt\\nimport plotly.graph_objs as go'); }\n",
              "    "
            ],
            "text/plain": [
              "<IPython.core.display.Javascript object>"
            ]
          },
          "metadata": {
            "tags": []
          }
        },
        {
          "output_type": "display_data",
          "data": {
            "application/javascript": [
              "\n",
              "        if (window._pyforest_update_imports_cell) { window._pyforest_update_imports_cell('import pandas as pd\\nimport bokeh\\nimport plotly as py\\nimport pydot\\nimport matplotlib as mpl\\nimport os\\nimport plotly.express as px\\nimport numpy as np\\nimport altair as alt\\nimport plotly.graph_objs as go'); }\n",
              "    "
            ],
            "text/plain": [
              "<IPython.core.display.Javascript object>"
            ]
          },
          "metadata": {
            "tags": []
          }
        },
        {
          "output_type": "display_data",
          "data": {
            "application/javascript": [
              "\n",
              "        if (window._pyforest_update_imports_cell) { window._pyforest_update_imports_cell('import pandas as pd\\nimport bokeh\\nimport plotly as py\\nimport pydot\\nimport matplotlib as mpl\\nimport os\\nimport plotly.express as px\\nimport numpy as np\\nimport altair as alt\\nimport plotly.graph_objs as go'); }\n",
              "    "
            ],
            "text/plain": [
              "<IPython.core.display.Javascript object>"
            ]
          },
          "metadata": {
            "tags": []
          }
        },
        {
          "output_type": "execute_result",
          "data": {
            "text/html": [
              "<div>\n",
              "<style scoped>\n",
              "    .dataframe tbody tr th:only-of-type {\n",
              "        vertical-align: middle;\n",
              "    }\n",
              "\n",
              "    .dataframe tbody tr th {\n",
              "        vertical-align: top;\n",
              "    }\n",
              "\n",
              "    .dataframe thead th {\n",
              "        text-align: right;\n",
              "    }\n",
              "</style>\n",
              "<table border=\"1\" class=\"dataframe\">\n",
              "  <thead>\n",
              "    <tr style=\"text-align: right;\">\n",
              "      <th></th>\n",
              "      <th>Date</th>\n",
              "      <th>predicted</th>\n",
              "      <th>Close</th>\n",
              "      <th>accuracy</th>\n",
              "      <th>day_of_week</th>\n",
              "    </tr>\n",
              "  </thead>\n",
              "  <tbody>\n",
              "    <tr>\n",
              "      <th>0</th>\n",
              "      <td>2020-05-21</td>\n",
              "      <td>1.656</td>\n",
              "      <td>1.720</td>\n",
              "      <td>96.28%</td>\n",
              "      <td>Thursday</td>\n",
              "    </tr>\n",
              "    <tr>\n",
              "      <th>1</th>\n",
              "      <td>2020-05-20</td>\n",
              "      <td>1.703</td>\n",
              "      <td>1.781</td>\n",
              "      <td>95.62%</td>\n",
              "      <td>Wednesday</td>\n",
              "    </tr>\n",
              "    <tr>\n",
              "      <th>2</th>\n",
              "      <td>2020-05-19</td>\n",
              "      <td>1.741</td>\n",
              "      <td>1.797</td>\n",
              "      <td>96.88%</td>\n",
              "      <td>Tuesday</td>\n",
              "    </tr>\n",
              "    <tr>\n",
              "      <th>3</th>\n",
              "      <td>2020-05-18</td>\n",
              "      <td>1.671</td>\n",
              "      <td>1.766</td>\n",
              "      <td>94.62%</td>\n",
              "      <td>Monday</td>\n",
              "    </tr>\n",
              "    <tr>\n",
              "      <th>4</th>\n",
              "      <td>2020-05-15</td>\n",
              "      <td>1.646</td>\n",
              "      <td>1.636</td>\n",
              "      <td>100.61%</td>\n",
              "      <td>Friday</td>\n",
              "    </tr>\n",
              "  </tbody>\n",
              "</table>\n",
              "</div>"
            ],
            "text/plain": [
              "        Date  predicted  Close accuracy day_of_week\n",
              "0 2020-05-21      1.656  1.720   96.28%    Thursday\n",
              "1 2020-05-20      1.703  1.781   95.62%   Wednesday\n",
              "2 2020-05-19      1.741  1.797   96.88%     Tuesday\n",
              "3 2020-05-18      1.671  1.766   94.62%      Monday\n",
              "4 2020-05-15      1.646  1.636  100.61%      Friday"
            ]
          },
          "metadata": {
            "tags": []
          },
          "execution_count": 27
        }
      ]
    },
    {
      "cell_type": "code",
      "metadata": {
        "id": "6bzJ-xMsqQTT",
        "colab_type": "code",
        "colab": {}
      },
      "source": [
        "#cp = c_fore.copy()\n",
        "#cp = cp.head()\n",
        "#cp.index = data.tail().index\n",
        "#cp.rename(columns = {0: 'predicted'}, inplace=True)\n",
        "#cp = pd.concat([round(cp['predicted'], 3), data['Close'].tail()], axis=1)\n",
        "#cp = cp.sort_values(by='Date', ascending=False)\n",
        "#cp['accuracy'] = round(cp.apply(lambda row: row.predicted / \n",
        "                                         #   row.Close *100, axis = 1),2)\n",
        "#cp['accuracy'] = pd.Series([\"{0:.2f}%\".format(val) for val in cp['accuracy']], \n",
        "                                    # index = cp.index)\n",
        "#cp = cp.assign(day_of_week = lambda x: x.index.day_name())\n",
        "#cp = cp.reset_index()\n",
        "#cp"
      ],
      "execution_count": 0,
      "outputs": []
    },
    {
      "cell_type": "code",
      "metadata": {
        "id": "SyjR09POeUNx",
        "colab_type": "code",
        "outputId": "862b66ab-c078-4128-b90b-e9f4d50e1cfb",
        "colab": {
          "base_uri": "https://localhost:8080/",
          "height": 417
        }
      },
      "source": [
        "fig = go.Figure()\n",
        "\n",
        "fig.add_trace(go.Scatter(\n",
        "    x=cp['Date'],\n",
        "    y=cp['Close'],\n",
        "    name=\"Actual open price\"       # this sets its legend entry\n",
        "))\n",
        "\n",
        "\n",
        "fig.add_trace(go.Scatter(\n",
        "    x=cp['Date'],\n",
        "    y=cp['predicted'],\n",
        "    name=\"Predicted close price\"\n",
        "))\n",
        "\n",
        "fig.update_layout(\n",
        "    title=\"Actual vs Predicted Open Price\",\n",
        "    #xaxis_title=\"Date\",\n",
        "    yaxis_title=\"Price ($/Mbtu)\",\n",
        "    font=dict(\n",
        "        family=\"Courier New, monospace\",\n",
        "        size=18,\n",
        "        color=\"#7f7f7f\"\n",
        "    )\n",
        ")\n",
        "fig.update_layout(\n",
        "    autosize=False,\n",
        "    width=800,\n",
        "    height=400,)\n",
        "fig.update_layout(legend_orientation=\"h\")\n",
        "fig.show()"
      ],
      "execution_count": 0,
      "outputs": [
        {
          "output_type": "display_data",
          "data": {
            "application/javascript": [
              "\n",
              "        if (window._pyforest_update_imports_cell) { window._pyforest_update_imports_cell('import pandas as pd\\nimport bokeh\\nimport plotly as py\\nimport pydot\\nimport matplotlib as mpl\\nimport os\\nimport plotly.express as px\\nimport numpy as np\\nimport altair as alt\\nimport plotly.graph_objs as go'); }\n",
              "    "
            ],
            "text/plain": [
              "<IPython.core.display.Javascript object>"
            ]
          },
          "metadata": {
            "tags": []
          }
        },
        {
          "output_type": "display_data",
          "data": {
            "application/javascript": [
              "\n",
              "        if (window._pyforest_update_imports_cell) { window._pyforest_update_imports_cell('import pandas as pd\\nimport bokeh\\nimport plotly as py\\nimport pydot\\nimport matplotlib as mpl\\nimport os\\nimport plotly.express as px\\nimport numpy as np\\nimport altair as alt\\nimport plotly.graph_objs as go'); }\n",
              "    "
            ],
            "text/plain": [
              "<IPython.core.display.Javascript object>"
            ]
          },
          "metadata": {
            "tags": []
          }
        },
        {
          "output_type": "display_data",
          "data": {
            "application/javascript": [
              "\n",
              "        if (window._pyforest_update_imports_cell) { window._pyforest_update_imports_cell('import pandas as pd\\nimport bokeh\\nimport plotly as py\\nimport pydot\\nimport matplotlib as mpl\\nimport os\\nimport plotly.express as px\\nimport numpy as np\\nimport altair as alt\\nimport plotly.graph_objs as go'); }\n",
              "    "
            ],
            "text/plain": [
              "<IPython.core.display.Javascript object>"
            ]
          },
          "metadata": {
            "tags": []
          }
        },
        {
          "output_type": "display_data",
          "data": {
            "text/html": [
              "<html>\n",
              "<head><meta charset=\"utf-8\" /></head>\n",
              "<body>\n",
              "    <div>\n",
              "            <script src=\"https://cdnjs.cloudflare.com/ajax/libs/mathjax/2.7.5/MathJax.js?config=TeX-AMS-MML_SVG\"></script><script type=\"text/javascript\">if (window.MathJax) {MathJax.Hub.Config({SVG: {font: \"STIX-Web\"}});}</script>\n",
              "                <script type=\"text/javascript\">window.PlotlyConfig = {MathJaxConfig: 'local'};</script>\n",
              "        <script src=\"https://cdn.plot.ly/plotly-latest.min.js\"></script>    \n",
              "            <div id=\"e5a55ae4-4de7-41e3-86f6-1b68bf2516ce\" class=\"plotly-graph-div\" style=\"height:400px; width:800px;\"></div>\n",
              "            <script type=\"text/javascript\">\n",
              "                \n",
              "                    window.PLOTLYENV=window.PLOTLYENV || {};\n",
              "                    \n",
              "                if (document.getElementById(\"e5a55ae4-4de7-41e3-86f6-1b68bf2516ce\")) {\n",
              "                    Plotly.newPlot(\n",
              "                        'e5a55ae4-4de7-41e3-86f6-1b68bf2516ce',\n",
              "                        [{\"name\": \"Actual open price\", \"type\": \"scatter\", \"x\": [\"2020-05-21T00:00:00\", \"2020-05-20T00:00:00\", \"2020-05-19T00:00:00\", \"2020-05-18T00:00:00\", \"2020-05-15T00:00:00\"], \"y\": [1.72, 1.781, 1.797, 1.766, 1.636]}, {\"name\": \"Predicted close price\", \"type\": \"scatter\", \"x\": [\"2020-05-21T00:00:00\", \"2020-05-20T00:00:00\", \"2020-05-19T00:00:00\", \"2020-05-18T00:00:00\", \"2020-05-15T00:00:00\"], \"y\": [1.656, 1.703, 1.741, 1.671, 1.646]}],\n",
              "                        {\"autosize\": false, \"font\": {\"color\": \"#7f7f7f\", \"family\": \"Courier New, monospace\", \"size\": 18}, \"height\": 400, \"legend\": {\"orientation\": \"h\"}, \"template\": {\"data\": {\"bar\": [{\"error_x\": {\"color\": \"#2a3f5f\"}, \"error_y\": {\"color\": \"#2a3f5f\"}, \"marker\": {\"line\": {\"color\": \"#E5ECF6\", \"width\": 0.5}}, \"type\": \"bar\"}], \"barpolar\": [{\"marker\": {\"line\": {\"color\": \"#E5ECF6\", \"width\": 0.5}}, \"type\": \"barpolar\"}], \"carpet\": [{\"aaxis\": {\"endlinecolor\": \"#2a3f5f\", \"gridcolor\": \"white\", \"linecolor\": \"white\", \"minorgridcolor\": \"white\", \"startlinecolor\": \"#2a3f5f\"}, \"baxis\": {\"endlinecolor\": \"#2a3f5f\", \"gridcolor\": \"white\", \"linecolor\": \"white\", \"minorgridcolor\": \"white\", \"startlinecolor\": \"#2a3f5f\"}, \"type\": \"carpet\"}], \"choropleth\": [{\"colorbar\": {\"outlinewidth\": 0, \"ticks\": \"\"}, \"type\": \"choropleth\"}], \"contour\": [{\"colorbar\": {\"outlinewidth\": 0, \"ticks\": \"\"}, \"colorscale\": [[0.0, \"#0d0887\"], [0.1111111111111111, \"#46039f\"], [0.2222222222222222, \"#7201a8\"], [0.3333333333333333, \"#9c179e\"], [0.4444444444444444, \"#bd3786\"], [0.5555555555555556, \"#d8576b\"], [0.6666666666666666, \"#ed7953\"], [0.7777777777777778, \"#fb9f3a\"], [0.8888888888888888, \"#fdca26\"], [1.0, \"#f0f921\"]], \"type\": \"contour\"}], \"contourcarpet\": [{\"colorbar\": {\"outlinewidth\": 0, \"ticks\": \"\"}, \"type\": \"contourcarpet\"}], \"heatmap\": [{\"colorbar\": {\"outlinewidth\": 0, \"ticks\": \"\"}, \"colorscale\": [[0.0, \"#0d0887\"], [0.1111111111111111, \"#46039f\"], [0.2222222222222222, \"#7201a8\"], [0.3333333333333333, \"#9c179e\"], [0.4444444444444444, \"#bd3786\"], [0.5555555555555556, \"#d8576b\"], [0.6666666666666666, \"#ed7953\"], [0.7777777777777778, \"#fb9f3a\"], [0.8888888888888888, \"#fdca26\"], [1.0, \"#f0f921\"]], \"type\": \"heatmap\"}], \"heatmapgl\": [{\"colorbar\": {\"outlinewidth\": 0, \"ticks\": \"\"}, \"colorscale\": [[0.0, \"#0d0887\"], [0.1111111111111111, \"#46039f\"], [0.2222222222222222, \"#7201a8\"], [0.3333333333333333, \"#9c179e\"], [0.4444444444444444, \"#bd3786\"], [0.5555555555555556, \"#d8576b\"], [0.6666666666666666, \"#ed7953\"], [0.7777777777777778, \"#fb9f3a\"], [0.8888888888888888, \"#fdca26\"], [1.0, \"#f0f921\"]], \"type\": \"heatmapgl\"}], \"histogram\": [{\"marker\": {\"colorbar\": {\"outlinewidth\": 0, \"ticks\": \"\"}}, \"type\": \"histogram\"}], \"histogram2d\": [{\"colorbar\": {\"outlinewidth\": 0, \"ticks\": \"\"}, \"colorscale\": [[0.0, \"#0d0887\"], [0.1111111111111111, \"#46039f\"], [0.2222222222222222, \"#7201a8\"], [0.3333333333333333, \"#9c179e\"], [0.4444444444444444, \"#bd3786\"], [0.5555555555555556, \"#d8576b\"], [0.6666666666666666, \"#ed7953\"], [0.7777777777777778, \"#fb9f3a\"], [0.8888888888888888, \"#fdca26\"], [1.0, \"#f0f921\"]], \"type\": \"histogram2d\"}], \"histogram2dcontour\": [{\"colorbar\": {\"outlinewidth\": 0, \"ticks\": \"\"}, \"colorscale\": [[0.0, \"#0d0887\"], [0.1111111111111111, \"#46039f\"], [0.2222222222222222, \"#7201a8\"], [0.3333333333333333, \"#9c179e\"], [0.4444444444444444, \"#bd3786\"], [0.5555555555555556, \"#d8576b\"], [0.6666666666666666, \"#ed7953\"], [0.7777777777777778, \"#fb9f3a\"], [0.8888888888888888, \"#fdca26\"], [1.0, \"#f0f921\"]], \"type\": \"histogram2dcontour\"}], \"mesh3d\": [{\"colorbar\": {\"outlinewidth\": 0, \"ticks\": \"\"}, \"type\": \"mesh3d\"}], \"parcoords\": [{\"line\": {\"colorbar\": {\"outlinewidth\": 0, \"ticks\": \"\"}}, \"type\": \"parcoords\"}], \"pie\": [{\"automargin\": true, \"type\": \"pie\"}], \"scatter\": [{\"marker\": {\"colorbar\": {\"outlinewidth\": 0, \"ticks\": \"\"}}, \"type\": \"scatter\"}], \"scatter3d\": [{\"line\": {\"colorbar\": {\"outlinewidth\": 0, \"ticks\": \"\"}}, \"marker\": {\"colorbar\": {\"outlinewidth\": 0, \"ticks\": \"\"}}, \"type\": \"scatter3d\"}], \"scattercarpet\": [{\"marker\": {\"colorbar\": {\"outlinewidth\": 0, \"ticks\": \"\"}}, \"type\": \"scattercarpet\"}], \"scattergeo\": [{\"marker\": {\"colorbar\": {\"outlinewidth\": 0, \"ticks\": \"\"}}, \"type\": \"scattergeo\"}], \"scattergl\": [{\"marker\": {\"colorbar\": {\"outlinewidth\": 0, \"ticks\": \"\"}}, \"type\": \"scattergl\"}], \"scattermapbox\": [{\"marker\": {\"colorbar\": {\"outlinewidth\": 0, \"ticks\": \"\"}}, \"type\": \"scattermapbox\"}], \"scatterpolar\": [{\"marker\": {\"colorbar\": {\"outlinewidth\": 0, \"ticks\": \"\"}}, \"type\": \"scatterpolar\"}], \"scatterpolargl\": [{\"marker\": {\"colorbar\": {\"outlinewidth\": 0, \"ticks\": \"\"}}, \"type\": \"scatterpolargl\"}], \"scatterternary\": [{\"marker\": {\"colorbar\": {\"outlinewidth\": 0, \"ticks\": \"\"}}, \"type\": \"scatterternary\"}], \"surface\": [{\"colorbar\": {\"outlinewidth\": 0, \"ticks\": \"\"}, \"colorscale\": [[0.0, \"#0d0887\"], [0.1111111111111111, \"#46039f\"], [0.2222222222222222, \"#7201a8\"], [0.3333333333333333, \"#9c179e\"], [0.4444444444444444, \"#bd3786\"], [0.5555555555555556, \"#d8576b\"], [0.6666666666666666, \"#ed7953\"], [0.7777777777777778, \"#fb9f3a\"], [0.8888888888888888, \"#fdca26\"], [1.0, \"#f0f921\"]], \"type\": \"surface\"}], \"table\": [{\"cells\": {\"fill\": {\"color\": \"#EBF0F8\"}, \"line\": {\"color\": \"white\"}}, \"header\": {\"fill\": {\"color\": \"#C8D4E3\"}, \"line\": {\"color\": \"white\"}}, \"type\": \"table\"}]}, \"layout\": {\"annotationdefaults\": {\"arrowcolor\": \"#2a3f5f\", \"arrowhead\": 0, \"arrowwidth\": 1}, \"coloraxis\": {\"colorbar\": {\"outlinewidth\": 0, \"ticks\": \"\"}}, \"colorscale\": {\"diverging\": [[0, \"#8e0152\"], [0.1, \"#c51b7d\"], [0.2, \"#de77ae\"], [0.3, \"#f1b6da\"], [0.4, \"#fde0ef\"], [0.5, \"#f7f7f7\"], [0.6, \"#e6f5d0\"], [0.7, \"#b8e186\"], [0.8, \"#7fbc41\"], [0.9, \"#4d9221\"], [1, \"#276419\"]], \"sequential\": [[0.0, \"#0d0887\"], [0.1111111111111111, \"#46039f\"], [0.2222222222222222, \"#7201a8\"], [0.3333333333333333, \"#9c179e\"], [0.4444444444444444, \"#bd3786\"], [0.5555555555555556, \"#d8576b\"], [0.6666666666666666, \"#ed7953\"], [0.7777777777777778, \"#fb9f3a\"], [0.8888888888888888, \"#fdca26\"], [1.0, \"#f0f921\"]], \"sequentialminus\": [[0.0, \"#0d0887\"], [0.1111111111111111, \"#46039f\"], [0.2222222222222222, \"#7201a8\"], [0.3333333333333333, \"#9c179e\"], [0.4444444444444444, \"#bd3786\"], [0.5555555555555556, \"#d8576b\"], [0.6666666666666666, \"#ed7953\"], [0.7777777777777778, \"#fb9f3a\"], [0.8888888888888888, \"#fdca26\"], [1.0, \"#f0f921\"]]}, \"colorway\": [\"#636efa\", \"#EF553B\", \"#00cc96\", \"#ab63fa\", \"#FFA15A\", \"#19d3f3\", \"#FF6692\", \"#B6E880\", \"#FF97FF\", \"#FECB52\"], \"font\": {\"color\": \"#2a3f5f\"}, \"geo\": {\"bgcolor\": \"white\", \"lakecolor\": \"white\", \"landcolor\": \"#E5ECF6\", \"showlakes\": true, \"showland\": true, \"subunitcolor\": \"white\"}, \"hoverlabel\": {\"align\": \"left\"}, \"hovermode\": \"closest\", \"mapbox\": {\"style\": \"light\"}, \"paper_bgcolor\": \"white\", \"plot_bgcolor\": \"#E5ECF6\", \"polar\": {\"angularaxis\": {\"gridcolor\": \"white\", \"linecolor\": \"white\", \"ticks\": \"\"}, \"bgcolor\": \"#E5ECF6\", \"radialaxis\": {\"gridcolor\": \"white\", \"linecolor\": \"white\", \"ticks\": \"\"}}, \"scene\": {\"xaxis\": {\"backgroundcolor\": \"#E5ECF6\", \"gridcolor\": \"white\", \"gridwidth\": 2, \"linecolor\": \"white\", \"showbackground\": true, \"ticks\": \"\", \"zerolinecolor\": \"white\"}, \"yaxis\": {\"backgroundcolor\": \"#E5ECF6\", \"gridcolor\": \"white\", \"gridwidth\": 2, \"linecolor\": \"white\", \"showbackground\": true, \"ticks\": \"\", \"zerolinecolor\": \"white\"}, \"zaxis\": {\"backgroundcolor\": \"#E5ECF6\", \"gridcolor\": \"white\", \"gridwidth\": 2, \"linecolor\": \"white\", \"showbackground\": true, \"ticks\": \"\", \"zerolinecolor\": \"white\"}}, \"shapedefaults\": {\"line\": {\"color\": \"#2a3f5f\"}}, \"ternary\": {\"aaxis\": {\"gridcolor\": \"white\", \"linecolor\": \"white\", \"ticks\": \"\"}, \"baxis\": {\"gridcolor\": \"white\", \"linecolor\": \"white\", \"ticks\": \"\"}, \"bgcolor\": \"#E5ECF6\", \"caxis\": {\"gridcolor\": \"white\", \"linecolor\": \"white\", \"ticks\": \"\"}}, \"title\": {\"x\": 0.05}, \"xaxis\": {\"automargin\": true, \"gridcolor\": \"white\", \"linecolor\": \"white\", \"ticks\": \"\", \"title\": {\"standoff\": 15}, \"zerolinecolor\": \"white\", \"zerolinewidth\": 2}, \"yaxis\": {\"automargin\": true, \"gridcolor\": \"white\", \"linecolor\": \"white\", \"ticks\": \"\", \"title\": {\"standoff\": 15}, \"zerolinecolor\": \"white\", \"zerolinewidth\": 2}}}, \"title\": {\"text\": \"Actual vs Predicted Open Price\"}, \"width\": 800, \"yaxis\": {\"title\": {\"text\": \"Price ($/Mbtu)\"}}},\n",
              "                        {\"responsive\": true}\n",
              "                    ).then(function(){\n",
              "                            \n",
              "var gd = document.getElementById('e5a55ae4-4de7-41e3-86f6-1b68bf2516ce');\n",
              "var x = new MutationObserver(function (mutations, observer) {{\n",
              "        var display = window.getComputedStyle(gd).display;\n",
              "        if (!display || display === 'none') {{\n",
              "            console.log([gd, 'removed!']);\n",
              "            Plotly.purge(gd);\n",
              "            observer.disconnect();\n",
              "        }}\n",
              "}});\n",
              "\n",
              "// Listen for the removal of the full notebook cells\n",
              "var notebookContainer = gd.closest('#notebook-container');\n",
              "if (notebookContainer) {{\n",
              "    x.observe(notebookContainer, {childList: true});\n",
              "}}\n",
              "\n",
              "// Listen for the clearing of the current output cell\n",
              "var outputEl = gd.closest('.output');\n",
              "if (outputEl) {{\n",
              "    x.observe(outputEl, {childList: true});\n",
              "}}\n",
              "\n",
              "                        })\n",
              "                };\n",
              "                \n",
              "            </script>\n",
              "        </div>\n",
              "</body>\n",
              "</html>"
            ]
          },
          "metadata": {
            "tags": []
          }
        }
      ]
    },
    {
      "cell_type": "code",
      "metadata": {
        "id": "UZ9iSpKXmT0I",
        "colab_type": "code",
        "outputId": "c7763806-10b2-4e22-d396-3880ebdaa2f0",
        "colab": {
          "base_uri": "https://localhost:8080/",
          "height": 195
        }
      },
      "source": [
        "h_stack = pd.concat([open_forecast['open_predict'], close_forecast['close_predict']], axis=1)\n",
        "h_stack = h_stack.assign(day_of_week = lambda x: x.index.day_name())\n",
        "h_stack = h_stack.reset_index()\n",
        "h_stack"
      ],
      "execution_count": 0,
      "outputs": [
        {
          "output_type": "display_data",
          "data": {
            "application/javascript": [
              "\n",
              "        if (window._pyforest_update_imports_cell) { window._pyforest_update_imports_cell('import pandas as pd\\nimport bokeh\\nimport sklearn\\nimport plotly as py\\nimport pydot\\nimport matplotlib as mpl\\nimport os\\nimport plotly.express as px\\nimport numpy as np\\nimport altair as alt\\nimport plotly.graph_objs as go'); }\n",
              "    "
            ],
            "text/plain": [
              "<IPython.core.display.Javascript object>"
            ]
          },
          "metadata": {
            "tags": []
          }
        },
        {
          "output_type": "execute_result",
          "data": {
            "text/html": [
              "<div>\n",
              "<style scoped>\n",
              "    .dataframe tbody tr th:only-of-type {\n",
              "        vertical-align: middle;\n",
              "    }\n",
              "\n",
              "    .dataframe tbody tr th {\n",
              "        vertical-align: top;\n",
              "    }\n",
              "\n",
              "    .dataframe thead th {\n",
              "        text-align: right;\n",
              "    }\n",
              "</style>\n",
              "<table border=\"1\" class=\"dataframe\">\n",
              "  <thead>\n",
              "    <tr style=\"text-align: right;\">\n",
              "      <th></th>\n",
              "      <th>Date</th>\n",
              "      <th>open_predict</th>\n",
              "      <th>close_predict</th>\n",
              "      <th>day_of_week</th>\n",
              "    </tr>\n",
              "  </thead>\n",
              "  <tbody>\n",
              "    <tr>\n",
              "      <th>0</th>\n",
              "      <td>2020-05-22</td>\n",
              "      <td>1.71</td>\n",
              "      <td>1.71</td>\n",
              "      <td>Friday</td>\n",
              "    </tr>\n",
              "    <tr>\n",
              "      <th>1</th>\n",
              "      <td>2020-05-25</td>\n",
              "      <td>1.72</td>\n",
              "      <td>1.64</td>\n",
              "      <td>Monday</td>\n",
              "    </tr>\n",
              "    <tr>\n",
              "      <th>2</th>\n",
              "      <td>2020-05-26</td>\n",
              "      <td>1.68</td>\n",
              "      <td>1.66</td>\n",
              "      <td>Tuesday</td>\n",
              "    </tr>\n",
              "    <tr>\n",
              "      <th>3</th>\n",
              "      <td>2020-05-27</td>\n",
              "      <td>1.66</td>\n",
              "      <td>1.71</td>\n",
              "      <td>Wednesday</td>\n",
              "    </tr>\n",
              "    <tr>\n",
              "      <th>4</th>\n",
              "      <td>2020-05-28</td>\n",
              "      <td>1.73</td>\n",
              "      <td>1.67</td>\n",
              "      <td>Thursday</td>\n",
              "    </tr>\n",
              "  </tbody>\n",
              "</table>\n",
              "</div>"
            ],
            "text/plain": [
              "        Date  open_predict  close_predict day_of_week\n",
              "0 2020-05-22          1.71           1.71      Friday\n",
              "1 2020-05-25          1.72           1.64      Monday\n",
              "2 2020-05-26          1.68           1.66     Tuesday\n",
              "3 2020-05-27          1.66           1.71   Wednesday\n",
              "4 2020-05-28          1.73           1.67    Thursday"
            ]
          },
          "metadata": {
            "tags": []
          },
          "execution_count": 37
        }
      ]
    },
    {
      "cell_type": "code",
      "metadata": {
        "id": "xDaZ49ETUmau",
        "colab_type": "code",
        "outputId": "9045b7f2-d911-4a32-9849-9d75a09a99bf",
        "colab": {
          "base_uri": "https://localhost:8080/",
          "height": 195
        }
      },
      "source": [
        "NG1 = data.copy()\n",
        "NG1.reset_index(inplace=True)\n",
        "NG1.tail()"
      ],
      "execution_count": 0,
      "outputs": [
        {
          "output_type": "execute_result",
          "data": {
            "text/html": [
              "<div>\n",
              "<style scoped>\n",
              "    .dataframe tbody tr th:only-of-type {\n",
              "        vertical-align: middle;\n",
              "    }\n",
              "\n",
              "    .dataframe tbody tr th {\n",
              "        vertical-align: top;\n",
              "    }\n",
              "\n",
              "    .dataframe thead th {\n",
              "        text-align: right;\n",
              "    }\n",
              "</style>\n",
              "<table border=\"1\" class=\"dataframe\">\n",
              "  <thead>\n",
              "    <tr style=\"text-align: right;\">\n",
              "      <th></th>\n",
              "      <th>Date</th>\n",
              "      <th>Open</th>\n",
              "      <th>High</th>\n",
              "      <th>Low</th>\n",
              "      <th>Close</th>\n",
              "      <th>Adj Close</th>\n",
              "      <th>Volume</th>\n",
              "    </tr>\n",
              "  </thead>\n",
              "  <tbody>\n",
              "    <tr>\n",
              "      <th>5104</th>\n",
              "      <td>2020-05-13</td>\n",
              "      <td>1.695</td>\n",
              "      <td>1.741</td>\n",
              "      <td>1.595</td>\n",
              "      <td>1.643</td>\n",
              "      <td>1.616</td>\n",
              "      <td>248140.0</td>\n",
              "    </tr>\n",
              "    <tr>\n",
              "      <th>5105</th>\n",
              "      <td>2020-05-14</td>\n",
              "      <td>1.643</td>\n",
              "      <td>1.715</td>\n",
              "      <td>1.610</td>\n",
              "      <td>1.674</td>\n",
              "      <td>1.681</td>\n",
              "      <td>198874.0</td>\n",
              "    </tr>\n",
              "    <tr>\n",
              "      <th>5106</th>\n",
              "      <td>2020-05-15</td>\n",
              "      <td>1.675</td>\n",
              "      <td>1.732</td>\n",
              "      <td>1.634</td>\n",
              "      <td>1.636</td>\n",
              "      <td>1.646</td>\n",
              "      <td>162964.0</td>\n",
              "    </tr>\n",
              "    <tr>\n",
              "      <th>5107</th>\n",
              "      <td>2020-05-18</td>\n",
              "      <td>1.725</td>\n",
              "      <td>1.851</td>\n",
              "      <td>1.702</td>\n",
              "      <td>1.766</td>\n",
              "      <td>1.783</td>\n",
              "      <td>217242.0</td>\n",
              "    </tr>\n",
              "    <tr>\n",
              "      <th>5108</th>\n",
              "      <td>2020-05-19</td>\n",
              "      <td>1.769</td>\n",
              "      <td>1.857</td>\n",
              "      <td>1.763</td>\n",
              "      <td>1.797</td>\n",
              "      <td>1.830</td>\n",
              "      <td>229500.0</td>\n",
              "    </tr>\n",
              "  </tbody>\n",
              "</table>\n",
              "</div>"
            ],
            "text/plain": [
              "           Date   Open   High    Low  Close  Adj Close    Volume\n",
              "5104 2020-05-13  1.695  1.741  1.595  1.643      1.616  248140.0\n",
              "5105 2020-05-14  1.643  1.715  1.610  1.674      1.681  198874.0\n",
              "5106 2020-05-15  1.675  1.732  1.634  1.636      1.646  162964.0\n",
              "5107 2020-05-18  1.725  1.851  1.702  1.766      1.783  217242.0\n",
              "5108 2020-05-19  1.769  1.857  1.763  1.797      1.830  229500.0"
            ]
          },
          "metadata": {
            "tags": []
          },
          "execution_count": 6
        }
      ]
    }
  ]
}